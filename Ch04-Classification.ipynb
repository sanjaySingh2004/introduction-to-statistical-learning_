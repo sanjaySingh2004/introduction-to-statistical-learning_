{
 "cells": [
  {
   "cell_type": "markdown",
   "id": "ba469efc-cf00-43ba-b81a-083230a5ad34",
   "metadata": {
    "editable": true,
    "slideshow": {
     "slide_type": ""
    },
    "tags": []
   },
   "source": [
    "### The Stock Market Data"
   ]
  },
  {
   "cell_type": "code",
   "execution_count": 15,
   "id": "b5036a23-faa2-48a1-b17a-e81f84b71f44",
   "metadata": {
    "scrolled": true
   },
   "outputs": [
    {
     "name": "stdout",
     "output_type": "stream",
     "text": [
      "Collecting islp\n",
      "  Downloading ISLP-0.4.0-py3-none-any.whl.metadata (7.0 kB)\n",
      "Requirement already satisfied: numpy>=1.7.1 in c:\\users\\asus\\anaconda3\\lib\\site-packages (from islp) (1.26.4)\n",
      "Requirement already satisfied: scipy>=0.9 in c:\\users\\asus\\anaconda3\\lib\\site-packages (from islp) (1.13.1)\n",
      "Requirement already satisfied: pandas>=0.20 in c:\\users\\asus\\anaconda3\\lib\\site-packages (from islp) (2.2.2)\n",
      "Requirement already satisfied: lxml in c:\\users\\asus\\anaconda3\\lib\\site-packages (from islp) (5.2.1)\n",
      "Requirement already satisfied: scikit-learn>=1.2 in c:\\users\\asus\\anaconda3\\lib\\site-packages (from islp) (1.5.1)\n",
      "Requirement already satisfied: joblib in c:\\users\\asus\\anaconda3\\lib\\site-packages (from islp) (1.4.2)\n",
      "Requirement already satisfied: statsmodels>=0.13 in c:\\users\\asus\\anaconda3\\lib\\site-packages (from islp) (0.14.2)\n",
      "Collecting lifelines (from islp)\n",
      "  Downloading lifelines-0.30.0-py3-none-any.whl.metadata (3.2 kB)\n",
      "Collecting pygam (from islp)\n",
      "  Downloading pygam-0.9.1-py3-none-any.whl.metadata (7.1 kB)\n",
      "Collecting torch (from islp)\n",
      "  Downloading torch-2.6.0-cp312-cp312-win_amd64.whl.metadata (28 kB)\n",
      "Collecting pytorch-lightning (from islp)\n",
      "  Downloading pytorch_lightning-2.5.1-py3-none-any.whl.metadata (20 kB)\n",
      "Collecting torchmetrics (from islp)\n",
      "  Downloading torchmetrics-1.7.0-py3-none-any.whl.metadata (21 kB)\n",
      "Requirement already satisfied: python-dateutil>=2.8.2 in c:\\users\\asus\\anaconda3\\lib\\site-packages (from pandas>=0.20->islp) (2.9.0.post0)\n",
      "Requirement already satisfied: pytz>=2020.1 in c:\\users\\asus\\anaconda3\\lib\\site-packages (from pandas>=0.20->islp) (2024.1)\n",
      "Requirement already satisfied: tzdata>=2022.7 in c:\\users\\asus\\anaconda3\\lib\\site-packages (from pandas>=0.20->islp) (2023.3)\n",
      "Requirement already satisfied: threadpoolctl>=3.1.0 in c:\\users\\asus\\anaconda3\\lib\\site-packages (from scikit-learn>=1.2->islp) (3.5.0)\n",
      "Requirement already satisfied: patsy>=0.5.6 in c:\\users\\asus\\anaconda3\\lib\\site-packages (from statsmodels>=0.13->islp) (0.5.6)\n",
      "Requirement already satisfied: packaging>=21.3 in c:\\users\\asus\\anaconda3\\lib\\site-packages (from statsmodels>=0.13->islp) (24.1)\n",
      "Requirement already satisfied: matplotlib>=3.0 in c:\\users\\asus\\anaconda3\\lib\\site-packages (from lifelines->islp) (3.9.2)\n",
      "Collecting autograd>=1.5 (from lifelines->islp)\n",
      "  Downloading autograd-1.7.0-py3-none-any.whl.metadata (7.5 kB)\n",
      "Collecting autograd-gamma>=0.3 (from lifelines->islp)\n",
      "  Downloading autograd-gamma-0.5.0.tar.gz (4.0 kB)\n",
      "  Preparing metadata (setup.py): started\n",
      "  Preparing metadata (setup.py): finished with status 'done'\n",
      "Collecting formulaic>=0.2.2 (from lifelines->islp)\n",
      "  Downloading formulaic-1.1.1-py3-none-any.whl.metadata (6.9 kB)\n",
      "Collecting progressbar2<5.0.0,>=4.2.0 (from pygam->islp)\n",
      "  Downloading progressbar2-4.5.0-py3-none-any.whl.metadata (16 kB)\n",
      "Collecting scipy>=0.9 (from islp)\n",
      "  Downloading scipy-1.11.4-cp312-cp312-win_amd64.whl.metadata (60 kB)\n",
      "Requirement already satisfied: tqdm>=4.57.0 in c:\\users\\asus\\anaconda3\\lib\\site-packages (from pytorch-lightning->islp) (4.66.5)\n",
      "Requirement already satisfied: PyYAML>=5.4 in c:\\users\\asus\\anaconda3\\lib\\site-packages (from pytorch-lightning->islp) (6.0.1)\n",
      "Requirement already satisfied: fsspec>=2022.5.0 in c:\\users\\asus\\anaconda3\\lib\\site-packages (from fsspec[http]>=2022.5.0->pytorch-lightning->islp) (2024.6.1)\n",
      "Requirement already satisfied: typing-extensions>=4.4.0 in c:\\users\\asus\\anaconda3\\lib\\site-packages (from pytorch-lightning->islp) (4.11.0)\n",
      "Collecting lightning-utilities>=0.10.0 (from pytorch-lightning->islp)\n",
      "  Downloading lightning_utilities-0.14.2-py3-none-any.whl.metadata (5.6 kB)\n",
      "Requirement already satisfied: filelock in c:\\users\\asus\\anaconda3\\lib\\site-packages (from torch->islp) (3.13.1)\n",
      "Requirement already satisfied: networkx in c:\\users\\asus\\anaconda3\\lib\\site-packages (from torch->islp) (3.3)\n",
      "Requirement already satisfied: jinja2 in c:\\users\\asus\\anaconda3\\lib\\site-packages (from torch->islp) (3.1.4)\n",
      "Requirement already satisfied: setuptools in c:\\users\\asus\\anaconda3\\lib\\site-packages (from torch->islp) (75.1.0)\n",
      "Collecting sympy==1.13.1 (from torch->islp)\n",
      "  Downloading sympy-1.13.1-py3-none-any.whl.metadata (12 kB)\n",
      "Requirement already satisfied: mpmath<1.4,>=1.1.0 in c:\\users\\asus\\anaconda3\\lib\\site-packages (from sympy==1.13.1->torch->islp) (1.3.0)\n",
      "Collecting interface-meta>=1.2.0 (from formulaic>=0.2.2->lifelines->islp)\n",
      "  Downloading interface_meta-1.3.0-py3-none-any.whl.metadata (6.7 kB)\n",
      "Requirement already satisfied: wrapt>=1.0 in c:\\users\\asus\\anaconda3\\lib\\site-packages (from formulaic>=0.2.2->lifelines->islp) (1.14.1)\n",
      "Requirement already satisfied: aiohttp!=4.0.0a0,!=4.0.0a1 in c:\\users\\asus\\anaconda3\\lib\\site-packages (from fsspec[http]>=2022.5.0->pytorch-lightning->islp) (3.10.5)\n",
      "Requirement already satisfied: contourpy>=1.0.1 in c:\\users\\asus\\anaconda3\\lib\\site-packages (from matplotlib>=3.0->lifelines->islp) (1.2.0)\n",
      "Requirement already satisfied: cycler>=0.10 in c:\\users\\asus\\anaconda3\\lib\\site-packages (from matplotlib>=3.0->lifelines->islp) (0.11.0)\n",
      "Requirement already satisfied: fonttools>=4.22.0 in c:\\users\\asus\\anaconda3\\lib\\site-packages (from matplotlib>=3.0->lifelines->islp) (4.51.0)\n",
      "Requirement already satisfied: kiwisolver>=1.3.1 in c:\\users\\asus\\anaconda3\\lib\\site-packages (from matplotlib>=3.0->lifelines->islp) (1.4.4)\n",
      "Requirement already satisfied: pillow>=8 in c:\\users\\asus\\anaconda3\\lib\\site-packages (from matplotlib>=3.0->lifelines->islp) (10.4.0)\n",
      "Requirement already satisfied: pyparsing>=2.3.1 in c:\\users\\asus\\anaconda3\\lib\\site-packages (from matplotlib>=3.0->lifelines->islp) (3.1.2)\n",
      "Requirement already satisfied: six in c:\\users\\asus\\anaconda3\\lib\\site-packages (from patsy>=0.5.6->statsmodels>=0.13->islp) (1.16.0)\n",
      "Collecting python-utils>=3.8.1 (from progressbar2<5.0.0,>=4.2.0->pygam->islp)\n",
      "  Downloading python_utils-3.9.1-py2.py3-none-any.whl.metadata (9.8 kB)\n",
      "Requirement already satisfied: colorama in c:\\users\\asus\\anaconda3\\lib\\site-packages (from tqdm>=4.57.0->pytorch-lightning->islp) (0.4.6)\n",
      "Requirement already satisfied: MarkupSafe>=2.0 in c:\\users\\asus\\anaconda3\\lib\\site-packages (from jinja2->torch->islp) (2.1.3)\n",
      "Requirement already satisfied: aiohappyeyeballs>=2.3.0 in c:\\users\\asus\\anaconda3\\lib\\site-packages (from aiohttp!=4.0.0a0,!=4.0.0a1->fsspec[http]>=2022.5.0->pytorch-lightning->islp) (2.4.0)\n",
      "Requirement already satisfied: aiosignal>=1.1.2 in c:\\users\\asus\\anaconda3\\lib\\site-packages (from aiohttp!=4.0.0a0,!=4.0.0a1->fsspec[http]>=2022.5.0->pytorch-lightning->islp) (1.2.0)\n",
      "Requirement already satisfied: attrs>=17.3.0 in c:\\users\\asus\\anaconda3\\lib\\site-packages (from aiohttp!=4.0.0a0,!=4.0.0a1->fsspec[http]>=2022.5.0->pytorch-lightning->islp) (23.1.0)\n",
      "Requirement already satisfied: frozenlist>=1.1.1 in c:\\users\\asus\\anaconda3\\lib\\site-packages (from aiohttp!=4.0.0a0,!=4.0.0a1->fsspec[http]>=2022.5.0->pytorch-lightning->islp) (1.4.0)\n",
      "Requirement already satisfied: multidict<7.0,>=4.5 in c:\\users\\asus\\anaconda3\\lib\\site-packages (from aiohttp!=4.0.0a0,!=4.0.0a1->fsspec[http]>=2022.5.0->pytorch-lightning->islp) (6.0.4)\n",
      "Requirement already satisfied: yarl<2.0,>=1.0 in c:\\users\\asus\\anaconda3\\lib\\site-packages (from aiohttp!=4.0.0a0,!=4.0.0a1->fsspec[http]>=2022.5.0->pytorch-lightning->islp) (1.11.0)\n",
      "Requirement already satisfied: idna>=2.0 in c:\\users\\asus\\anaconda3\\lib\\site-packages (from yarl<2.0,>=1.0->aiohttp!=4.0.0a0,!=4.0.0a1->fsspec[http]>=2022.5.0->pytorch-lightning->islp) (3.7)\n",
      "Downloading ISLP-0.4.0-py3-none-any.whl (3.6 MB)\n",
      "   ---------------------------------------- 0.0/3.6 MB ? eta -:--:--\n",
      "   ----------- ---------------------------- 1.0/3.6 MB 12.7 MB/s eta 0:00:01\n",
      "   ----------------------- ---------------- 2.1/3.6 MB 5.1 MB/s eta 0:00:01\n",
      "   ----------------------- ---------------- 2.1/3.6 MB 5.1 MB/s eta 0:00:01\n",
      "   -------------------------------- ------- 2.9/3.6 MB 3.2 MB/s eta 0:00:01\n",
      "   ---------------------------------------- 3.6/3.6 MB 3.9 MB/s eta 0:00:00\n",
      "Downloading lifelines-0.30.0-py3-none-any.whl (349 kB)\n",
      "Downloading pygam-0.9.1-py3-none-any.whl (522 kB)\n",
      "Downloading scipy-1.11.4-cp312-cp312-win_amd64.whl (43.7 MB)\n",
      "   ---------------------------------------- 0.0/43.7 MB ? eta -:--:--\n",
      "   --- ------------------------------------ 3.7/43.7 MB 19.8 MB/s eta 0:00:03\n",
      "   ------- -------------------------------- 8.7/43.7 MB 21.5 MB/s eta 0:00:02\n",
      "   ---------- ----------------------------- 11.5/43.7 MB 18.5 MB/s eta 0:00:02\n",
      "   ------------- -------------------------- 15.2/43.7 MB 18.7 MB/s eta 0:00:02\n",
      "   --------------- ------------------------ 16.8/43.7 MB 16.5 MB/s eta 0:00:02\n",
      "   ---------------- ----------------------- 18.1/43.7 MB 14.4 MB/s eta 0:00:02\n",
      "   ----------------- ---------------------- 19.4/43.7 MB 13.3 MB/s eta 0:00:02\n",
      "   ------------------- -------------------- 21.0/43.7 MB 12.5 MB/s eta 0:00:02\n",
      "   -------------------- ------------------- 22.8/43.7 MB 12.1 MB/s eta 0:00:02\n",
      "   ---------------------- ----------------- 24.9/43.7 MB 11.9 MB/s eta 0:00:02\n",
      "   ------------------------ --------------- 26.7/43.7 MB 11.6 MB/s eta 0:00:02\n",
      "   -------------------------- ------------- 28.8/43.7 MB 11.5 MB/s eta 0:00:02\n",
      "   ---------------------------- ----------- 31.2/43.7 MB 11.4 MB/s eta 0:00:02\n",
      "   ----------------------------- ---------- 32.8/43.7 MB 11.3 MB/s eta 0:00:01\n",
      "   -------------------------------- ------- 35.9/43.7 MB 11.5 MB/s eta 0:00:01\n",
      "   ---------------------------------- ----- 38.0/43.7 MB 11.3 MB/s eta 0:00:01\n",
      "   ------------------------------------- -- 40.6/43.7 MB 11.4 MB/s eta 0:00:01\n",
      "   ---------------------------------------  43.5/43.7 MB 11.5 MB/s eta 0:00:01\n",
      "   ---------------------------------------- 43.7/43.7 MB 11.4 MB/s eta 0:00:00\n",
      "Downloading pytorch_lightning-2.5.1-py3-none-any.whl (822 kB)\n",
      "   ---------------------------------------- 0.0/823.0 kB ? eta -:--:--\n",
      "   --------------------------------------- 823.0/823.0 kB 11.9 MB/s eta 0:00:00\n",
      "Downloading torch-2.6.0-cp312-cp312-win_amd64.whl (204.1 MB)\n",
      "   ---------------------------------------- 0.0/204.1 MB ? eta -:--:--\n",
      "    --------------------------------------- 3.4/204.1 MB 16.8 MB/s eta 0:00:12\n",
      "   - -------------------------------------- 6.8/204.1 MB 16.8 MB/s eta 0:00:12\n",
      "   -- ------------------------------------- 10.7/204.1 MB 17.7 MB/s eta 0:00:11\n",
      "   -- ------------------------------------- 14.2/204.1 MB 17.1 MB/s eta 0:00:12\n",
      "   --- ------------------------------------ 16.3/204.1 MB 15.8 MB/s eta 0:00:12\n",
      "   --- ------------------------------------ 17.8/204.1 MB 15.6 MB/s eta 0:00:12\n",
      "   --- ------------------------------------ 19.7/204.1 MB 13.5 MB/s eta 0:00:14\n",
      "   ---- ----------------------------------- 23.1/204.1 MB 13.8 MB/s eta 0:00:14\n",
      "   ----- ---------------------------------- 26.7/204.1 MB 14.1 MB/s eta 0:00:13\n",
      "   ----- ---------------------------------- 30.1/204.1 MB 14.4 MB/s eta 0:00:13\n",
      "   ------ --------------------------------- 31.7/204.1 MB 13.8 MB/s eta 0:00:13\n",
      "   ------ --------------------------------- 33.3/204.1 MB 13.3 MB/s eta 0:00:13\n",
      "   ------ --------------------------------- 34.9/204.1 MB 12.9 MB/s eta 0:00:14\n",
      "   ------- -------------------------------- 36.7/204.1 MB 12.7 MB/s eta 0:00:14\n",
      "   ------- -------------------------------- 38.8/204.1 MB 12.4 MB/s eta 0:00:14\n",
      "   -------- ------------------------------- 41.2/204.1 MB 12.3 MB/s eta 0:00:14\n",
      "   -------- ------------------------------- 43.8/204.1 MB 12.3 MB/s eta 0:00:14\n",
      "   --------- ------------------------------ 46.9/204.1 MB 12.4 MB/s eta 0:00:13\n",
      "   --------- ------------------------------ 49.8/204.1 MB 12.5 MB/s eta 0:00:13\n",
      "   ---------- ----------------------------- 53.2/204.1 MB 12.7 MB/s eta 0:00:12\n",
      "   ----------- ---------------------------- 57.1/204.1 MB 13.0 MB/s eta 0:00:12\n",
      "   ----------- ---------------------------- 59.8/204.1 MB 12.9 MB/s eta 0:00:12\n",
      "   ------------ --------------------------- 62.7/204.1 MB 12.9 MB/s eta 0:00:11\n",
      "   ------------ --------------------------- 65.8/204.1 MB 13.0 MB/s eta 0:00:11\n",
      "   ------------- -------------------------- 68.7/204.1 MB 13.1 MB/s eta 0:00:11\n",
      "   ------------- -------------------------- 69.7/204.1 MB 12.8 MB/s eta 0:00:11\n",
      "   ------------- -------------------------- 71.0/204.1 MB 12.5 MB/s eta 0:00:11\n",
      "   -------------- ------------------------- 72.6/204.1 MB 12.3 MB/s eta 0:00:11\n",
      "   -------------- ------------------------- 74.4/204.1 MB 12.2 MB/s eta 0:00:11\n",
      "   -------------- ------------------------- 76.3/204.1 MB 12.0 MB/s eta 0:00:11\n",
      "   --------------- ------------------------ 77.9/204.1 MB 11.9 MB/s eta 0:00:11\n",
      "   --------------- ------------------------ 80.2/204.1 MB 11.9 MB/s eta 0:00:11\n",
      "   --------------- ------------------------ 81.3/204.1 MB 11.7 MB/s eta 0:00:11\n",
      "   ---------------- ----------------------- 83.1/204.1 MB 11.6 MB/s eta 0:00:11\n",
      "   ---------------- ----------------------- 85.5/204.1 MB 11.6 MB/s eta 0:00:11\n",
      "   ----------------- ---------------------- 88.3/204.1 MB 11.6 MB/s eta 0:00:10\n",
      "   ----------------- ---------------------- 91.5/204.1 MB 11.7 MB/s eta 0:00:10\n",
      "   ------------------ --------------------- 94.9/204.1 MB 11.9 MB/s eta 0:00:10\n",
      "   ------------------- -------------------- 98.8/204.1 MB 12.0 MB/s eta 0:00:09\n",
      "   ------------------- ------------------- 102.2/204.1 MB 12.1 MB/s eta 0:00:09\n",
      "   ------------------- ------------------- 104.6/204.1 MB 12.1 MB/s eta 0:00:09\n",
      "   -------------------- ------------------ 107.0/204.1 MB 12.1 MB/s eta 0:00:09\n",
      "   -------------------- ------------------ 109.3/204.1 MB 12.1 MB/s eta 0:00:08\n",
      "   --------------------- ----------------- 111.9/204.1 MB 12.1 MB/s eta 0:00:08\n",
      "   --------------------- ----------------- 114.3/204.1 MB 12.1 MB/s eta 0:00:08\n",
      "   ---------------------- ---------------- 117.2/204.1 MB 12.1 MB/s eta 0:00:08\n",
      "   ---------------------- ---------------- 119.8/204.1 MB 12.1 MB/s eta 0:00:07\n",
      "   ----------------------- --------------- 121.4/204.1 MB 12.0 MB/s eta 0:00:07\n",
      "   ----------------------- --------------- 123.2/204.1 MB 12.0 MB/s eta 0:00:07\n",
      "   ----------------------- --------------- 125.3/204.1 MB 11.9 MB/s eta 0:00:07\n",
      "   ------------------------ -------------- 127.7/204.1 MB 11.9 MB/s eta 0:00:07\n",
      "   ------------------------ -------------- 130.5/204.1 MB 11.9 MB/s eta 0:00:07\n",
      "   ------------------------- ------------- 133.2/204.1 MB 12.0 MB/s eta 0:00:06\n",
      "   -------------------------- ------------ 136.3/204.1 MB 12.0 MB/s eta 0:00:06\n",
      "   -------------------------- ------------ 139.5/204.1 MB 12.1 MB/s eta 0:00:06\n",
      "   --------------------------- ----------- 142.6/204.1 MB 12.1 MB/s eta 0:00:06\n",
      "   --------------------------- ----------- 144.7/204.1 MB 12.1 MB/s eta 0:00:05\n",
      "   ---------------------------- ---------- 147.6/204.1 MB 12.1 MB/s eta 0:00:05\n",
      "   ---------------------------- ---------- 150.2/204.1 MB 12.1 MB/s eta 0:00:05\n",
      "   ----------------------------- --------- 152.3/204.1 MB 12.1 MB/s eta 0:00:05\n",
      "   ----------------------------- --------- 154.9/204.1 MB 12.1 MB/s eta 0:00:05\n",
      "   ------------------------------ -------- 157.5/204.1 MB 12.1 MB/s eta 0:00:04\n",
      "   ------------------------------ -------- 160.2/204.1 MB 12.1 MB/s eta 0:00:04\n",
      "   ------------------------------- ------- 162.8/204.1 MB 12.1 MB/s eta 0:00:04\n",
      "   ------------------------------- ------- 166.2/204.1 MB 12.2 MB/s eta 0:00:04\n",
      "   -------------------------------- ------ 168.8/204.1 MB 12.1 MB/s eta 0:00:03\n",
      "   -------------------------------- ------ 170.1/204.1 MB 12.1 MB/s eta 0:00:03\n",
      "   -------------------------------- ------ 171.7/204.1 MB 12.0 MB/s eta 0:00:03\n",
      "   --------------------------------- ----- 173.5/204.1 MB 11.9 MB/s eta 0:00:03\n",
      "   --------------------------------- ----- 175.4/204.1 MB 11.9 MB/s eta 0:00:03\n",
      "   --------------------------------- ----- 177.5/204.1 MB 11.9 MB/s eta 0:00:03\n",
      "   ---------------------------------- ---- 180.1/204.1 MB 11.9 MB/s eta 0:00:03\n",
      "   ---------------------------------- ---- 182.7/204.1 MB 11.9 MB/s eta 0:00:02\n",
      "   ----------------------------------- --- 185.6/204.1 MB 11.9 MB/s eta 0:00:02\n",
      "   ------------------------------------ -- 188.7/204.1 MB 12.0 MB/s eta 0:00:02\n",
      "   ------------------------------------ -- 191.4/204.1 MB 12.0 MB/s eta 0:00:02\n",
      "   ------------------------------------- - 194.2/204.1 MB 12.0 MB/s eta 0:00:01\n",
      "   ------------------------------------- - 196.9/204.1 MB 12.0 MB/s eta 0:00:01\n",
      "   --------------------------------------  200.3/204.1 MB 12.1 MB/s eta 0:00:01\n",
      "   --------------------------------------  203.2/204.1 MB 12.1 MB/s eta 0:00:01\n",
      "   --------------------------------------  203.9/204.1 MB 12.1 MB/s eta 0:00:01\n",
      "   --------------------------------------- 204.1/204.1 MB 11.9 MB/s eta 0:00:00\n",
      "Downloading sympy-1.13.1-py3-none-any.whl (6.2 MB)\n",
      "   ---------------------------------------- 0.0/6.2 MB ? eta -:--:--\n",
      "   ---------------------------- ----------- 4.5/6.2 MB 22.3 MB/s eta 0:00:01\n",
      "   ---------------------------------------- 6.2/6.2 MB 20.0 MB/s eta 0:00:00\n",
      "Downloading torchmetrics-1.7.0-py3-none-any.whl (960 kB)\n",
      "   ---------------------------------------- 0.0/960.9 kB ? eta -:--:--\n",
      "   --------------------------------------- 960.9/960.9 kB 11.1 MB/s eta 0:00:00\n",
      "Downloading autograd-1.7.0-py3-none-any.whl (52 kB)\n",
      "Downloading formulaic-1.1.1-py3-none-any.whl (115 kB)\n",
      "Downloading lightning_utilities-0.14.2-py3-none-any.whl (28 kB)\n",
      "Downloading progressbar2-4.5.0-py3-none-any.whl (57 kB)\n",
      "Downloading interface_meta-1.3.0-py3-none-any.whl (14 kB)\n",
      "Downloading python_utils-3.9.1-py2.py3-none-any.whl (32 kB)\n",
      "Building wheels for collected packages: autograd-gamma\n",
      "  Building wheel for autograd-gamma (setup.py): started\n",
      "  Building wheel for autograd-gamma (setup.py): finished with status 'done'\n",
      "  Created wheel for autograd-gamma: filename=autograd_gamma-0.5.0-py3-none-any.whl size=4048 sha256=99ca84de73db4bb67c1af2bb8f0cfc0afb2b9edbf7178ecfb9393cb31921963f\n",
      "  Stored in directory: c:\\users\\asus\\appdata\\local\\pip\\cache\\wheels\\50\\37\\21\\0a719b9d89c635e89ff24bd93b862882ad675279552013b2fb\n",
      "Successfully built autograd-gamma\n",
      "Installing collected packages: sympy, scipy, python-utils, lightning-utilities, interface-meta, autograd, torch, progressbar2, autograd-gamma, torchmetrics, pygam, formulaic, pytorch-lightning, lifelines, islp\n",
      "  Attempting uninstall: sympy\n",
      "    Found existing installation: sympy 1.13.2\n",
      "    Uninstalling sympy-1.13.2:\n",
      "      Successfully uninstalled sympy-1.13.2\n",
      "  Attempting uninstall: scipy\n",
      "    Found existing installation: scipy 1.13.1\n",
      "    Uninstalling scipy-1.13.1:\n",
      "      Successfully uninstalled scipy-1.13.1\n",
      "Successfully installed autograd-1.7.0 autograd-gamma-0.5.0 formulaic-1.1.1 interface-meta-1.3.0 islp-0.4.0 lifelines-0.30.0 lightning-utilities-0.14.2 progressbar2-4.5.0 pygam-0.9.1 python-utils-3.9.1 pytorch-lightning-2.5.1 scipy-1.11.4 sympy-1.13.1 torch-2.6.0 torchmetrics-1.7.0\n",
      "Note: you may need to restart the kernel to use updated packages.\n"
     ]
    }
   ],
   "source": [
    "pip install islp"
   ]
  },
  {
   "cell_type": "code",
   "execution_count": 4,
   "id": "fe683bf3-5e70-4d09-9776-154e5c434d39",
   "metadata": {},
   "outputs": [],
   "source": [
    "import numpy as np\n",
    "import pandas as pd\n",
    "from matplotlib.pyplot import subplots\n",
    "import statsmodels.api as sm\n",
    "from ISLP import load_data\n",
    "from ISLP.models import (ModelSpec as MS, summarize)"
   ]
  },
  {
   "cell_type": "code",
   "execution_count": 5,
   "id": "63660c4e-c8d3-45ef-83ec-c90e0d04e8a9",
   "metadata": {},
   "outputs": [],
   "source": [
    "from ISLP import confusion_table\n",
    "from ISLP.models import contrast\n",
    "from sklearn.discriminant_analysis import \\\n",
    "     (LinearDiscriminantAnalysis as LDA,\n",
    "      QuadraticDiscriminantAnalysis as QDA)\n",
    "from sklearn.naive_bayes import GaussianNB\n",
    "from sklearn.neighbors import KNeighborsClassifier\n",
    "from sklearn.preprocessing import StandardScaler\n",
    "from sklearn.model_selection import train_test_split\n",
    "from sklearn.linear_model import LogisticRegression"
   ]
  },
  {
   "cell_type": "code",
   "execution_count": 6,
   "id": "634280b6-de9e-45d0-98ea-971decce3edc",
   "metadata": {},
   "outputs": [
    {
     "data": {
      "text/html": [
       "<div>\n",
       "<style scoped>\n",
       "    .dataframe tbody tr th:only-of-type {\n",
       "        vertical-align: middle;\n",
       "    }\n",
       "\n",
       "    .dataframe tbody tr th {\n",
       "        vertical-align: top;\n",
       "    }\n",
       "\n",
       "    .dataframe thead th {\n",
       "        text-align: right;\n",
       "    }\n",
       "</style>\n",
       "<table border=\"1\" class=\"dataframe\">\n",
       "  <thead>\n",
       "    <tr style=\"text-align: right;\">\n",
       "      <th></th>\n",
       "      <th>Year</th>\n",
       "      <th>Lag1</th>\n",
       "      <th>Lag2</th>\n",
       "      <th>Lag3</th>\n",
       "      <th>Lag4</th>\n",
       "      <th>Lag5</th>\n",
       "      <th>Volume</th>\n",
       "      <th>Today</th>\n",
       "      <th>Direction</th>\n",
       "    </tr>\n",
       "  </thead>\n",
       "  <tbody>\n",
       "    <tr>\n",
       "      <th>0</th>\n",
       "      <td>2001</td>\n",
       "      <td>0.381</td>\n",
       "      <td>-0.192</td>\n",
       "      <td>-2.624</td>\n",
       "      <td>-1.055</td>\n",
       "      <td>5.010</td>\n",
       "      <td>1.19130</td>\n",
       "      <td>0.959</td>\n",
       "      <td>Up</td>\n",
       "    </tr>\n",
       "    <tr>\n",
       "      <th>1</th>\n",
       "      <td>2001</td>\n",
       "      <td>0.959</td>\n",
       "      <td>0.381</td>\n",
       "      <td>-0.192</td>\n",
       "      <td>-2.624</td>\n",
       "      <td>-1.055</td>\n",
       "      <td>1.29650</td>\n",
       "      <td>1.032</td>\n",
       "      <td>Up</td>\n",
       "    </tr>\n",
       "    <tr>\n",
       "      <th>2</th>\n",
       "      <td>2001</td>\n",
       "      <td>1.032</td>\n",
       "      <td>0.959</td>\n",
       "      <td>0.381</td>\n",
       "      <td>-0.192</td>\n",
       "      <td>-2.624</td>\n",
       "      <td>1.41120</td>\n",
       "      <td>-0.623</td>\n",
       "      <td>Down</td>\n",
       "    </tr>\n",
       "    <tr>\n",
       "      <th>3</th>\n",
       "      <td>2001</td>\n",
       "      <td>-0.623</td>\n",
       "      <td>1.032</td>\n",
       "      <td>0.959</td>\n",
       "      <td>0.381</td>\n",
       "      <td>-0.192</td>\n",
       "      <td>1.27600</td>\n",
       "      <td>0.614</td>\n",
       "      <td>Up</td>\n",
       "    </tr>\n",
       "    <tr>\n",
       "      <th>4</th>\n",
       "      <td>2001</td>\n",
       "      <td>0.614</td>\n",
       "      <td>-0.623</td>\n",
       "      <td>1.032</td>\n",
       "      <td>0.959</td>\n",
       "      <td>0.381</td>\n",
       "      <td>1.20570</td>\n",
       "      <td>0.213</td>\n",
       "      <td>Up</td>\n",
       "    </tr>\n",
       "    <tr>\n",
       "      <th>...</th>\n",
       "      <td>...</td>\n",
       "      <td>...</td>\n",
       "      <td>...</td>\n",
       "      <td>...</td>\n",
       "      <td>...</td>\n",
       "      <td>...</td>\n",
       "      <td>...</td>\n",
       "      <td>...</td>\n",
       "      <td>...</td>\n",
       "    </tr>\n",
       "    <tr>\n",
       "      <th>1245</th>\n",
       "      <td>2005</td>\n",
       "      <td>0.422</td>\n",
       "      <td>0.252</td>\n",
       "      <td>-0.024</td>\n",
       "      <td>-0.584</td>\n",
       "      <td>-0.285</td>\n",
       "      <td>1.88850</td>\n",
       "      <td>0.043</td>\n",
       "      <td>Up</td>\n",
       "    </tr>\n",
       "    <tr>\n",
       "      <th>1246</th>\n",
       "      <td>2005</td>\n",
       "      <td>0.043</td>\n",
       "      <td>0.422</td>\n",
       "      <td>0.252</td>\n",
       "      <td>-0.024</td>\n",
       "      <td>-0.584</td>\n",
       "      <td>1.28581</td>\n",
       "      <td>-0.955</td>\n",
       "      <td>Down</td>\n",
       "    </tr>\n",
       "    <tr>\n",
       "      <th>1247</th>\n",
       "      <td>2005</td>\n",
       "      <td>-0.955</td>\n",
       "      <td>0.043</td>\n",
       "      <td>0.422</td>\n",
       "      <td>0.252</td>\n",
       "      <td>-0.024</td>\n",
       "      <td>1.54047</td>\n",
       "      <td>0.130</td>\n",
       "      <td>Up</td>\n",
       "    </tr>\n",
       "    <tr>\n",
       "      <th>1248</th>\n",
       "      <td>2005</td>\n",
       "      <td>0.130</td>\n",
       "      <td>-0.955</td>\n",
       "      <td>0.043</td>\n",
       "      <td>0.422</td>\n",
       "      <td>0.252</td>\n",
       "      <td>1.42236</td>\n",
       "      <td>-0.298</td>\n",
       "      <td>Down</td>\n",
       "    </tr>\n",
       "    <tr>\n",
       "      <th>1249</th>\n",
       "      <td>2005</td>\n",
       "      <td>-0.298</td>\n",
       "      <td>0.130</td>\n",
       "      <td>-0.955</td>\n",
       "      <td>0.043</td>\n",
       "      <td>0.422</td>\n",
       "      <td>1.38254</td>\n",
       "      <td>-0.489</td>\n",
       "      <td>Down</td>\n",
       "    </tr>\n",
       "  </tbody>\n",
       "</table>\n",
       "<p>1250 rows × 9 columns</p>\n",
       "</div>"
      ],
      "text/plain": [
       "      Year   Lag1   Lag2   Lag3   Lag4   Lag5   Volume  Today Direction\n",
       "0     2001  0.381 -0.192 -2.624 -1.055  5.010  1.19130  0.959        Up\n",
       "1     2001  0.959  0.381 -0.192 -2.624 -1.055  1.29650  1.032        Up\n",
       "2     2001  1.032  0.959  0.381 -0.192 -2.624  1.41120 -0.623      Down\n",
       "3     2001 -0.623  1.032  0.959  0.381 -0.192  1.27600  0.614        Up\n",
       "4     2001  0.614 -0.623  1.032  0.959  0.381  1.20570  0.213        Up\n",
       "...    ...    ...    ...    ...    ...    ...      ...    ...       ...\n",
       "1245  2005  0.422  0.252 -0.024 -0.584 -0.285  1.88850  0.043        Up\n",
       "1246  2005  0.043  0.422  0.252 -0.024 -0.584  1.28581 -0.955      Down\n",
       "1247  2005 -0.955  0.043  0.422  0.252 -0.024  1.54047  0.130        Up\n",
       "1248  2005  0.130 -0.955  0.043  0.422  0.252  1.42236 -0.298      Down\n",
       "1249  2005 -0.298  0.130 -0.955  0.043  0.422  1.38254 -0.489      Down\n",
       "\n",
       "[1250 rows x 9 columns]"
      ]
     },
     "execution_count": 6,
     "metadata": {},
     "output_type": "execute_result"
    }
   ],
   "source": [
    "Smarket = load_data(\"Smarket\")\n",
    "Smarket"
   ]
  },
  {
   "cell_type": "code",
   "execution_count": 7,
   "id": "9211d643-cf3a-425a-a24d-1259d7058291",
   "metadata": {},
   "outputs": [
    {
     "data": {
      "text/plain": [
       "Index(['Year', 'Lag1', 'Lag2', 'Lag3', 'Lag4', 'Lag5', 'Volume', 'Today',\n",
       "       'Direction'],\n",
       "      dtype='object')"
      ]
     },
     "execution_count": 7,
     "metadata": {},
     "output_type": "execute_result"
    }
   ],
   "source": [
    "Smarket.columns"
   ]
  },
  {
   "cell_type": "code",
   "execution_count": 12,
   "id": "3c59302b-38c8-4ceb-aa1d-bc32d12460d0",
   "metadata": {},
   "outputs": [
    {
     "data": {
      "text/html": [
       "<div>\n",
       "<style scoped>\n",
       "    .dataframe tbody tr th:only-of-type {\n",
       "        vertical-align: middle;\n",
       "    }\n",
       "\n",
       "    .dataframe tbody tr th {\n",
       "        vertical-align: top;\n",
       "    }\n",
       "\n",
       "    .dataframe thead th {\n",
       "        text-align: right;\n",
       "    }\n",
       "</style>\n",
       "<table border=\"1\" class=\"dataframe\">\n",
       "  <thead>\n",
       "    <tr style=\"text-align: right;\">\n",
       "      <th></th>\n",
       "      <th>Year</th>\n",
       "      <th>Lag1</th>\n",
       "      <th>Lag2</th>\n",
       "      <th>Lag3</th>\n",
       "      <th>Lag4</th>\n",
       "      <th>Lag5</th>\n",
       "      <th>Volume</th>\n",
       "      <th>Today</th>\n",
       "    </tr>\n",
       "  </thead>\n",
       "  <tbody>\n",
       "    <tr>\n",
       "      <th>Year</th>\n",
       "      <td>1.000000</td>\n",
       "      <td>0.029700</td>\n",
       "      <td>0.030596</td>\n",
       "      <td>0.033195</td>\n",
       "      <td>0.035689</td>\n",
       "      <td>0.029788</td>\n",
       "      <td>0.539006</td>\n",
       "      <td>0.030095</td>\n",
       "    </tr>\n",
       "    <tr>\n",
       "      <th>Lag1</th>\n",
       "      <td>0.029700</td>\n",
       "      <td>1.000000</td>\n",
       "      <td>-0.026294</td>\n",
       "      <td>-0.010803</td>\n",
       "      <td>-0.002986</td>\n",
       "      <td>-0.005675</td>\n",
       "      <td>0.040910</td>\n",
       "      <td>-0.026155</td>\n",
       "    </tr>\n",
       "    <tr>\n",
       "      <th>Lag2</th>\n",
       "      <td>0.030596</td>\n",
       "      <td>-0.026294</td>\n",
       "      <td>1.000000</td>\n",
       "      <td>-0.025897</td>\n",
       "      <td>-0.010854</td>\n",
       "      <td>-0.003558</td>\n",
       "      <td>-0.043383</td>\n",
       "      <td>-0.010250</td>\n",
       "    </tr>\n",
       "    <tr>\n",
       "      <th>Lag3</th>\n",
       "      <td>0.033195</td>\n",
       "      <td>-0.010803</td>\n",
       "      <td>-0.025897</td>\n",
       "      <td>1.000000</td>\n",
       "      <td>-0.024051</td>\n",
       "      <td>-0.018808</td>\n",
       "      <td>-0.041824</td>\n",
       "      <td>-0.002448</td>\n",
       "    </tr>\n",
       "    <tr>\n",
       "      <th>Lag4</th>\n",
       "      <td>0.035689</td>\n",
       "      <td>-0.002986</td>\n",
       "      <td>-0.010854</td>\n",
       "      <td>-0.024051</td>\n",
       "      <td>1.000000</td>\n",
       "      <td>-0.027084</td>\n",
       "      <td>-0.048414</td>\n",
       "      <td>-0.006900</td>\n",
       "    </tr>\n",
       "    <tr>\n",
       "      <th>Lag5</th>\n",
       "      <td>0.029788</td>\n",
       "      <td>-0.005675</td>\n",
       "      <td>-0.003558</td>\n",
       "      <td>-0.018808</td>\n",
       "      <td>-0.027084</td>\n",
       "      <td>1.000000</td>\n",
       "      <td>-0.022002</td>\n",
       "      <td>-0.034860</td>\n",
       "    </tr>\n",
       "    <tr>\n",
       "      <th>Volume</th>\n",
       "      <td>0.539006</td>\n",
       "      <td>0.040910</td>\n",
       "      <td>-0.043383</td>\n",
       "      <td>-0.041824</td>\n",
       "      <td>-0.048414</td>\n",
       "      <td>-0.022002</td>\n",
       "      <td>1.000000</td>\n",
       "      <td>0.014592</td>\n",
       "    </tr>\n",
       "    <tr>\n",
       "      <th>Today</th>\n",
       "      <td>0.030095</td>\n",
       "      <td>-0.026155</td>\n",
       "      <td>-0.010250</td>\n",
       "      <td>-0.002448</td>\n",
       "      <td>-0.006900</td>\n",
       "      <td>-0.034860</td>\n",
       "      <td>0.014592</td>\n",
       "      <td>1.000000</td>\n",
       "    </tr>\n",
       "  </tbody>\n",
       "</table>\n",
       "</div>"
      ],
      "text/plain": [
       "            Year      Lag1      Lag2      Lag3      Lag4      Lag5    Volume  \\\n",
       "Year    1.000000  0.029700  0.030596  0.033195  0.035689  0.029788  0.539006   \n",
       "Lag1    0.029700  1.000000 -0.026294 -0.010803 -0.002986 -0.005675  0.040910   \n",
       "Lag2    0.030596 -0.026294  1.000000 -0.025897 -0.010854 -0.003558 -0.043383   \n",
       "Lag3    0.033195 -0.010803 -0.025897  1.000000 -0.024051 -0.018808 -0.041824   \n",
       "Lag4    0.035689 -0.002986 -0.010854 -0.024051  1.000000 -0.027084 -0.048414   \n",
       "Lag5    0.029788 -0.005675 -0.003558 -0.018808 -0.027084  1.000000 -0.022002   \n",
       "Volume  0.539006  0.040910 -0.043383 -0.041824 -0.048414 -0.022002  1.000000   \n",
       "Today   0.030095 -0.026155 -0.010250 -0.002448 -0.006900 -0.034860  0.014592   \n",
       "\n",
       "           Today  \n",
       "Year    0.030095  \n",
       "Lag1   -0.026155  \n",
       "Lag2   -0.010250  \n",
       "Lag3   -0.002448  \n",
       "Lag4   -0.006900  \n",
       "Lag5   -0.034860  \n",
       "Volume  0.014592  \n",
       "Today   1.000000  "
      ]
     },
     "execution_count": 12,
     "metadata": {},
     "output_type": "execute_result"
    }
   ],
   "source": [
    "Smarket.corr(numeric_only=True)"
   ]
  },
  {
   "cell_type": "code",
   "execution_count": 14,
   "id": "f07e9bb6-8e83-49a6-89c6-bdbd8755b23f",
   "metadata": {},
   "outputs": [
    {
     "data": {
      "image/png": "[encoded data removed]",
      "text/plain": [
       "<Figure size 640x480 with 1 Axes>"
      ]
     },
     "metadata": {},
     "output_type": "display_data"
    }
   ],
   "source": [
    "Smarket.plot(y='Volume');"
   ]
  },
  {
   "cell_type": "markdown",
   "id": "38abcfbf-884e-41a3-b028-3188fca5f94d",
   "metadata": {},
   "source": [
    "### Logistic Regression"
   ]
  },
  {
   "cell_type": "code",
   "execution_count": 17,
   "id": "aefbf3a2-af20-40b0-a678-59bb958f6fc8",
   "metadata": {},
   "outputs": [
    {
     "data": {
      "text/html": [
       "<div>\n",
       "<style scoped>\n",
       "    .dataframe tbody tr th:only-of-type {\n",
       "        vertical-align: middle;\n",
       "    }\n",
       "\n",
       "    .dataframe tbody tr th {\n",
       "        vertical-align: top;\n",
       "    }\n",
       "\n",
       "    .dataframe thead th {\n",
       "        text-align: right;\n",
       "    }\n",
       "</style>\n",
       "<table border=\"1\" class=\"dataframe\">\n",
       "  <thead>\n",
       "    <tr style=\"text-align: right;\">\n",
       "      <th></th>\n",
       "      <th>coef</th>\n",
       "      <th>std err</th>\n",
       "      <th>z</th>\n",
       "      <th>P&gt;|z|</th>\n",
       "    </tr>\n",
       "  </thead>\n",
       "  <tbody>\n",
       "    <tr>\n",
       "      <th>intercept</th>\n",
       "      <td>-0.1260</td>\n",
       "      <td>0.241</td>\n",
       "      <td>-0.523</td>\n",
       "      <td>0.601</td>\n",
       "    </tr>\n",
       "    <tr>\n",
       "      <th>Lag1</th>\n",
       "      <td>-0.0731</td>\n",
       "      <td>0.050</td>\n",
       "      <td>-1.457</td>\n",
       "      <td>0.145</td>\n",
       "    </tr>\n",
       "    <tr>\n",
       "      <th>Lag2</th>\n",
       "      <td>-0.0423</td>\n",
       "      <td>0.050</td>\n",
       "      <td>-0.845</td>\n",
       "      <td>0.398</td>\n",
       "    </tr>\n",
       "    <tr>\n",
       "      <th>Lag3</th>\n",
       "      <td>0.0111</td>\n",
       "      <td>0.050</td>\n",
       "      <td>0.222</td>\n",
       "      <td>0.824</td>\n",
       "    </tr>\n",
       "    <tr>\n",
       "      <th>Lag4</th>\n",
       "      <td>0.0094</td>\n",
       "      <td>0.050</td>\n",
       "      <td>0.187</td>\n",
       "      <td>0.851</td>\n",
       "    </tr>\n",
       "    <tr>\n",
       "      <th>Lag5</th>\n",
       "      <td>0.0103</td>\n",
       "      <td>0.050</td>\n",
       "      <td>0.208</td>\n",
       "      <td>0.835</td>\n",
       "    </tr>\n",
       "    <tr>\n",
       "      <th>Volume</th>\n",
       "      <td>0.1354</td>\n",
       "      <td>0.158</td>\n",
       "      <td>0.855</td>\n",
       "      <td>0.392</td>\n",
       "    </tr>\n",
       "  </tbody>\n",
       "</table>\n",
       "</div>"
      ],
      "text/plain": [
       "             coef  std err      z  P>|z|\n",
       "intercept -0.1260    0.241 -0.523  0.601\n",
       "Lag1      -0.0731    0.050 -1.457  0.145\n",
       "Lag2      -0.0423    0.050 -0.845  0.398\n",
       "Lag3       0.0111    0.050  0.222  0.824\n",
       "Lag4       0.0094    0.050  0.187  0.851\n",
       "Lag5       0.0103    0.050  0.208  0.835\n",
       "Volume     0.1354    0.158  0.855  0.392"
      ]
     },
     "execution_count": 17,
     "metadata": {},
     "output_type": "execute_result"
    }
   ],
   "source": [
    "allvars = Smarket.columns.drop(['Today', 'Direction', 'Year'])\n",
    "design = MS(allvars)\n",
    "X = design.fit_transform(Smarket)\n",
    "y = Smarket.Direction == 'Up'\n",
    "glm = sm.GLM(y,\n",
    "             X,\n",
    "             family=sm.families.Binomial())\n",
    "results = glm.fit()\n",
    "summarize(results)"
   ]
  },
  {
   "cell_type": "code",
   "execution_count": 19,
   "id": "97a13916-4b3c-4fec-b6ef-2f09d4cc8e8d",
   "metadata": {
    "scrolled": true
   },
   "outputs": [
    {
     "data": {
      "text/plain": [
       "intercept   -0.126000\n",
       "Lag1        -0.073074\n",
       "Lag2        -0.042301\n",
       "Lag3         0.011085\n",
       "Lag4         0.009359\n",
       "Lag5         0.010313\n",
       "Volume       0.135441\n",
       "dtype: float64"
      ]
     },
     "execution_count": 19,
     "metadata": {},
     "output_type": "execute_result"
    }
   ],
   "source": [
    "results.params"
   ]
  },
  {
   "cell_type": "code",
   "execution_count": 21,
   "id": "77dfaa4d-0cb3-4469-88d3-f0af75396850",
   "metadata": {},
   "outputs": [
    {
     "data": {
      "text/plain": [
       "intercept    0.600700\n",
       "Lag1         0.145232\n",
       "Lag2         0.398352\n",
       "Lag3         0.824334\n",
       "Lag4         0.851445\n",
       "Lag5         0.834998\n",
       "Volume       0.392404\n",
       "dtype: float64"
      ]
     },
     "execution_count": 21,
     "metadata": {},
     "output_type": "execute_result"
    }
   ],
   "source": [
    "results.pvalues"
   ]
  },
  {
   "cell_type": "code",
   "execution_count": 23,
   "id": "a6a15197-8df6-4013-a1e0-223ae1b34716",
   "metadata": {},
   "outputs": [
    {
     "data": {
      "text/plain": [
       "array([0.50708413, 0.48146788, 0.48113883, 0.51522236, 0.51078116,\n",
       "       0.50695646, 0.49265087, 0.50922916, 0.51761353, 0.48883778])"
      ]
     },
     "execution_count": 23,
     "metadata": {},
     "output_type": "execute_result"
    }
   ],
   "source": [
    " probs = results.predict()\n",
    "probs[:10]"
   ]
  },
  {
   "cell_type": "code",
   "execution_count": 25,
   "id": "95c6867a-1c21-4adf-bd45-17c521a95539",
   "metadata": {},
   "outputs": [],
   "source": [
    "labels = np.array(['Down']*1250)\n",
    "labels[probs>0.5] = \"Up\""
   ]
  },
  {
   "cell_type": "code",
   "execution_count": 27,
   "id": "d79a4da6-acd6-467a-b68e-b9c8ab3d77c0",
   "metadata": {},
   "outputs": [
    {
     "data": {
      "text/html": [
       "<div>\n",
       "<style scoped>\n",
       "    .dataframe tbody tr th:only-of-type {\n",
       "        vertical-align: middle;\n",
       "    }\n",
       "\n",
       "    .dataframe tbody tr th {\n",
       "        vertical-align: top;\n",
       "    }\n",
       "\n",
       "    .dataframe thead th {\n",
       "        text-align: right;\n",
       "    }\n",
       "</style>\n",
       "<table border=\"1\" class=\"dataframe\">\n",
       "  <thead>\n",
       "    <tr style=\"text-align: right;\">\n",
       "      <th>Truth</th>\n",
       "      <th>Down</th>\n",
       "      <th>Up</th>\n",
       "    </tr>\n",
       "    <tr>\n",
       "      <th>Predicted</th>\n",
       "      <th></th>\n",
       "      <th></th>\n",
       "    </tr>\n",
       "  </thead>\n",
       "  <tbody>\n",
       "    <tr>\n",
       "      <th>Down</th>\n",
       "      <td>145</td>\n",
       "      <td>141</td>\n",
       "    </tr>\n",
       "    <tr>\n",
       "      <th>Up</th>\n",
       "      <td>457</td>\n",
       "      <td>507</td>\n",
       "    </tr>\n",
       "  </tbody>\n",
       "</table>\n",
       "</div>"
      ],
      "text/plain": [
       "Truth      Down   Up\n",
       "Predicted           \n",
       "Down        145  141\n",
       "Up          457  507"
      ]
     },
     "execution_count": 27,
     "metadata": {},
     "output_type": "execute_result"
    }
   ],
   "source": [
    "confusion_table(labels, Smarket.Direction)"
   ]
  },
  {
   "cell_type": "code",
   "execution_count": 29,
   "id": "c2de0265-e0ab-4296-bed9-a0f6c933d1c7",
   "metadata": {},
   "outputs": [
    {
     "data": {
      "text/plain": [
       "(0.5216, 0.5216)"
      ]
     },
     "execution_count": 29,
     "metadata": {},
     "output_type": "execute_result"
    }
   ],
   "source": [
    "(507+145)/1250, np.mean(labels == Smarket.Direction)"
   ]
  },
  {
   "cell_type": "code",
   "execution_count": 31,
   "id": "0e8f9ac4-f18b-4a5c-b695-a22d4d60d394",
   "metadata": {},
   "outputs": [
    {
     "data": {
      "text/plain": [
       "(252, 9)"
      ]
     },
     "execution_count": 31,
     "metadata": {},
     "output_type": "execute_result"
    }
   ],
   "source": [
    "train = (Smarket.Year < 2005)\n",
    "Smarket_train = Smarket.loc[train]\n",
    "Smarket_test = Smarket.loc[~train]\n",
    "Smarket_test.shape"
   ]
  },
  {
   "cell_type": "code",
   "execution_count": 33,
   "id": "3d65f35b-ce20-487e-938f-674fa2a203f7",
   "metadata": {},
   "outputs": [],
   "source": [
    "X_train, X_test = X.loc[train], X.loc[~train]\n",
    "y_train, y_test = y.loc[train], y.loc[~train]\n",
    "glm_train = sm.GLM(y_train,\n",
    "                   X_train,\n",
    "                   family=sm.families.Binomial())\n",
    "results = glm_train.fit()\n",
    "probs = results.predict(exog=X_test)"
   ]
  },
  {
   "cell_type": "code",
   "execution_count": 35,
   "id": "19136c07-98a6-4d66-9317-3c6726d2dd2c",
   "metadata": {},
   "outputs": [],
   "source": [
    "D = Smarket.Direction\n",
    "L_train, L_test = D.loc[train], D.loc[~train]"
   ]
  },
  {
   "cell_type": "code",
   "execution_count": 37,
   "id": "4796162b-69ca-408e-802e-92c5f8263c58",
   "metadata": {},
   "outputs": [
    {
     "data": {
      "text/html": [
       "<div>\n",
       "<style scoped>\n",
       "    .dataframe tbody tr th:only-of-type {\n",
       "        vertical-align: middle;\n",
       "    }\n",
       "\n",
       "    .dataframe tbody tr th {\n",
       "        vertical-align: top;\n",
       "    }\n",
       "\n",
       "    .dataframe thead th {\n",
       "        text-align: right;\n",
       "    }\n",
       "</style>\n",
       "<table border=\"1\" class=\"dataframe\">\n",
       "  <thead>\n",
       "    <tr style=\"text-align: right;\">\n",
       "      <th>Truth</th>\n",
       "      <th>Down</th>\n",
       "      <th>Up</th>\n",
       "    </tr>\n",
       "    <tr>\n",
       "      <th>Predicted</th>\n",
       "      <th></th>\n",
       "      <th></th>\n",
       "    </tr>\n",
       "  </thead>\n",
       "  <tbody>\n",
       "    <tr>\n",
       "      <th>Down</th>\n",
       "      <td>77</td>\n",
       "      <td>97</td>\n",
       "    </tr>\n",
       "    <tr>\n",
       "      <th>Up</th>\n",
       "      <td>34</td>\n",
       "      <td>44</td>\n",
       "    </tr>\n",
       "  </tbody>\n",
       "</table>\n",
       "</div>"
      ],
      "text/plain": [
       "Truth      Down  Up\n",
       "Predicted          \n",
       "Down         77  97\n",
       "Up           34  44"
      ]
     },
     "execution_count": 37,
     "metadata": {},
     "output_type": "execute_result"
    }
   ],
   "source": [
    "labels = np.array(['Down']*252)\n",
    "labels[probs>0.5] = 'Up'\n",
    "confusion_table(labels, L_test)"
   ]
  },
  {
   "cell_type": "code",
   "execution_count": 39,
   "id": "23ef1d79-c3c4-40a7-9a02-2467afc24c13",
   "metadata": {},
   "outputs": [
    {
     "data": {
      "text/plain": [
       "(0.4801587301587302, 0.5198412698412699)"
      ]
     },
     "execution_count": 39,
     "metadata": {},
     "output_type": "execute_result"
    }
   ],
   "source": [
    "np.mean(labels == L_test), np.mean(labels != L_test)"
   ]
  },
  {
   "cell_type": "code",
   "execution_count": 41,
   "id": "955773f8-1dbf-479b-901c-05a4ee947405",
   "metadata": {},
   "outputs": [
    {
     "data": {
      "text/html": [
       "<div>\n",
       "<style scoped>\n",
       "    .dataframe tbody tr th:only-of-type {\n",
       "        vertical-align: middle;\n",
       "    }\n",
       "\n",
       "    .dataframe tbody tr th {\n",
       "        vertical-align: top;\n",
       "    }\n",
       "\n",
       "    .dataframe thead th {\n",
       "        text-align: right;\n",
       "    }\n",
       "</style>\n",
       "<table border=\"1\" class=\"dataframe\">\n",
       "  <thead>\n",
       "    <tr style=\"text-align: right;\">\n",
       "      <th>Truth</th>\n",
       "      <th>Down</th>\n",
       "      <th>Up</th>\n",
       "    </tr>\n",
       "    <tr>\n",
       "      <th>Predicted</th>\n",
       "      <th></th>\n",
       "      <th></th>\n",
       "    </tr>\n",
       "  </thead>\n",
       "  <tbody>\n",
       "    <tr>\n",
       "      <th>Down</th>\n",
       "      <td>35</td>\n",
       "      <td>35</td>\n",
       "    </tr>\n",
       "    <tr>\n",
       "      <th>Up</th>\n",
       "      <td>76</td>\n",
       "      <td>106</td>\n",
       "    </tr>\n",
       "  </tbody>\n",
       "</table>\n",
       "</div>"
      ],
      "text/plain": [
       "Truth      Down   Up\n",
       "Predicted           \n",
       "Down         35   35\n",
       "Up           76  106"
      ]
     },
     "execution_count": 41,
     "metadata": {},
     "output_type": "execute_result"
    }
   ],
   "source": [
    "model = MS(['Lag1', 'Lag2']).fit(Smarket)\n",
    "X = model.transform(Smarket)\n",
    "X_train, X_test = X.loc[train], X.loc[~train]\n",
    "glm_train = sm.GLM(y_train,\n",
    "                   X_train,\n",
    "                   family=sm.families.Binomial())\n",
    "results = glm_train.fit()\n",
    "probs = results.predict(exog=X_test)\n",
    "labels = np.array(['Down']*252)\n",
    "labels[probs>0.5] = 'Up'\n",
    "confusion_table(labels, L_test)"
   ]
  },
  {
   "cell_type": "code",
   "execution_count": 42,
   "id": "6107deed-4129-4acc-b43f-63937089aac7",
   "metadata": {},
   "outputs": [
    {
     "data": {
      "text/plain": [
       "(0.5595238095238095, 0.5824175824175825)"
      ]
     },
     "execution_count": 42,
     "metadata": {},
     "output_type": "execute_result"
    }
   ],
   "source": [
    "(35+106)/252,106/(106+76)"
   ]
  },
  {
   "cell_type": "code",
   "execution_count": 45,
   "id": "314667de-ed49-4d0f-8b5d-e16df4346d13",
   "metadata": {},
   "outputs": [
    {
     "data": {
      "text/plain": [
       "0    0.479146\n",
       "1    0.496094\n",
       "dtype: float64"
      ]
     },
     "execution_count": 45,
     "metadata": {},
     "output_type": "execute_result"
    }
   ],
   "source": [
    "newdata = pd.DataFrame({'Lag1':[1.2, 1.5],\n",
    "                        'Lag2':[1.1, -0.8]});\n",
    "newX = model.transform(newdata)\n",
    "results.predict(newX)"
   ]
  },
  {
   "cell_type": "markdown",
   "id": "3e35148a-f898-469d-9571-d97cfc2b00aa",
   "metadata": {},
   "source": [
    "### Linear Discriminant Analysis"
   ]
  },
  {
   "cell_type": "code",
   "execution_count": 48,
   "id": "02befd4b-f5f2-425b-ae6c-68b329cde0d6",
   "metadata": {},
   "outputs": [],
   "source": [
    "lda = LDA(store_covariance=True)"
   ]
  },
  {
   "cell_type": "code",
   "execution_count": 50,
   "id": "567583a9-598c-4509-99eb-4216db6392c5",
   "metadata": {},
   "outputs": [
    {
     "data": {
      "text/html": [
       "<style>#sk-container-id-1 {\n",
       "  /* Definition of color scheme common for light and dark mode */\n",
       "  --sklearn-color-text: black;\n",
       "  --sklearn-color-line: gray;\n",
       "  /* Definition of color scheme for unfitted estimators */\n",
       "  --sklearn-color-unfitted-level-0: #fff5e6;\n",
       "  --sklearn-color-unfitted-level-1: #f6e4d2;\n",
       "  --sklearn-color-unfitted-level-2: #ffe0b3;\n",
       "  --sklearn-color-unfitted-level-3: chocolate;\n",
       "  /* Definition of color scheme for fitted estimators */\n",
       "  --sklearn-color-fitted-level-0: #f0f8ff;\n",
       "  --sklearn-color-fitted-level-1: #d4ebff;\n",
       "  --sklearn-color-fitted-level-2: #b3dbfd;\n",
       "  --sklearn-color-fitted-level-3: cornflowerblue;\n",
       "\n",
       "  /* Specific color for light theme */\n",
       "  --sklearn-color-text-on-default-background: var(--sg-text-color, var(--theme-code-foreground, var(--jp-content-font-color1, black)));\n",
       "  --sklearn-color-background: var(--sg-background-color, var(--theme-background, var(--jp-layout-color0, white)));\n",
       "  --sklearn-color-border-box: var(--sg-text-color, var(--theme-code-foreground, var(--jp-content-font-color1, black)));\n",
       "  --sklearn-color-icon: #696969;\n",
       "\n",
       "  @media (prefers-color-scheme: dark) {\n",
       "    /* Redefinition of color scheme for dark theme */\n",
       "    --sklearn-color-text-on-default-background: var(--sg-text-color, var(--theme-code-foreground, var(--jp-content-font-color1, white)));\n",
       "    --sklearn-color-background: var(--sg-background-color, var(--theme-background, var(--jp-layout-color0, #111)));\n",
       "    --sklearn-color-border-box: var(--sg-text-color, var(--theme-code-foreground, var(--jp-content-font-color1, white)));\n",
       "    --sklearn-color-icon: #878787;\n",
       "  }\n",
       "}\n",
       "\n",
       "#sk-container-id-1 {\n",
       "  color: var(--sklearn-color-text);\n",
       "}\n",
       "\n",
       "#sk-container-id-1 pre {\n",
       "  padding: 0;\n",
       "}\n",
       "\n",
       "#sk-container-id-1 input.sk-hidden--visually {\n",
       "  border: 0;\n",
       "  clip: rect(1px 1px 1px 1px);\n",
       "  clip: rect(1px, 1px, 1px, 1px);\n",
       "  height: 1px;\n",
       "  margin: -1px;\n",
       "  overflow: hidden;\n",
       "  padding: 0;\n",
       "  position: absolute;\n",
       "  width: 1px;\n",
       "}\n",
       "\n",
       "#sk-container-id-1 div.sk-dashed-wrapped {\n",
       "  border: 1px dashed var(--sklearn-color-line);\n",
       "  margin: 0 0.4em 0.5em 0.4em;\n",
       "  box-sizing: border-box;\n",
       "  padding-bottom: 0.4em;\n",
       "  background-color: var(--sklearn-color-background);\n",
       "}\n",
       "\n",
       "#sk-container-id-1 div.sk-container {\n",
       "  /* jupyter's `normalize.less` sets `[hidden] { display: none; }`\n",
       "     but bootstrap.min.css set `[hidden] { display: none !important; }`\n",
       "     so we also need the `!important` here to be able to override the\n",
       "     default hidden behavior on the sphinx rendered scikit-learn.org.\n",
       "     See: https://github.com/scikit-learn/scikit-learn/issues/21755 */\n",
       "  display: inline-block !important;\n",
       "  position: relative;\n",
       "}\n",
       "\n",
       "#sk-container-id-1 div.sk-text-repr-fallback {\n",
       "  display: none;\n",
       "}\n",
       "\n",
       "div.sk-parallel-item,\n",
       "div.sk-serial,\n",
       "div.sk-item {\n",
       "  /* draw centered vertical line to link estimators */\n",
       "  background-image: linear-gradient(var(--sklearn-color-text-on-default-background), var(--sklearn-color-text-on-default-background));\n",
       "  background-size: 2px 100%;\n",
       "  background-repeat: no-repeat;\n",
       "  background-position: center center;\n",
       "}\n",
       "\n",
       "/* Parallel-specific style estimator block */\n",
       "\n",
       "#sk-container-id-1 div.sk-parallel-item::after {\n",
       "  content: \"\";\n",
       "  width: 100%;\n",
       "  border-bottom: 2px solid var(--sklearn-color-text-on-default-background);\n",
       "  flex-grow: 1;\n",
       "}\n",
       "\n",
       "#sk-container-id-1 div.sk-parallel {\n",
       "  display: flex;\n",
       "  align-items: stretch;\n",
       "  justify-content: center;\n",
       "  background-color: var(--sklearn-color-background);\n",
       "  position: relative;\n",
       "}\n",
       "\n",
       "#sk-container-id-1 div.sk-parallel-item {\n",
       "  display: flex;\n",
       "  flex-direction: column;\n",
       "}\n",
       "\n",
       "#sk-container-id-1 div.sk-parallel-item:first-child::after {\n",
       "  align-self: flex-end;\n",
       "  width: 50%;\n",
       "}\n",
       "\n",
       "#sk-container-id-1 div.sk-parallel-item:last-child::after {\n",
       "  align-self: flex-start;\n",
       "  width: 50%;\n",
       "}\n",
       "\n",
       "#sk-container-id-1 div.sk-parallel-item:only-child::after {\n",
       "  width: 0;\n",
       "}\n",
       "\n",
       "/* Serial-specific style estimator block */\n",
       "\n",
       "#sk-container-id-1 div.sk-serial {\n",
       "  display: flex;\n",
       "  flex-direction: column;\n",
       "  align-items: center;\n",
       "  background-color: var(--sklearn-color-background);\n",
       "  padding-right: 1em;\n",
       "  padding-left: 1em;\n",
       "}\n",
       "\n",
       "\n",
       "/* Toggleable style: style used for estimator/Pipeline/ColumnTransformer box that is\n",
       "clickable and can be expanded/collapsed.\n",
       "- Pipeline and ColumnTransformer use this feature and define the default style\n",
       "- Estimators will overwrite some part of the style using the `sk-estimator` class\n",
       "*/\n",
       "\n",
       "/* Pipeline and ColumnTransformer style (default) */\n",
       "\n",
       "#sk-container-id-1 div.sk-toggleable {\n",
       "  /* Default theme specific background. It is overwritten whether we have a\n",
       "  specific estimator or a Pipeline/ColumnTransformer */\n",
       "  background-color: var(--sklearn-color-background);\n",
       "}\n",
       "\n",
       "/* Toggleable label */\n",
       "#sk-container-id-1 label.sk-toggleable__label {\n",
       "  cursor: pointer;\n",
       "  display: block;\n",
       "  width: 100%;\n",
       "  margin-bottom: 0;\n",
       "  padding: 0.5em;\n",
       "  box-sizing: border-box;\n",
       "  text-align: center;\n",
       "}\n",
       "\n",
       "#sk-container-id-1 label.sk-toggleable__label-arrow:before {\n",
       "  /* Arrow on the left of the label */\n",
       "  content: \"▸\";\n",
       "  float: left;\n",
       "  margin-right: 0.25em;\n",
       "  color: var(--sklearn-color-icon);\n",
       "}\n",
       "\n",
       "#sk-container-id-1 label.sk-toggleable__label-arrow:hover:before {\n",
       "  color: var(--sklearn-color-text);\n",
       "}\n",
       "\n",
       "/* Toggleable content - dropdown */\n",
       "\n",
       "#sk-container-id-1 div.sk-toggleable__content {\n",
       "  max-height: 0;\n",
       "  max-width: 0;\n",
       "  overflow: hidden;\n",
       "  text-align: left;\n",
       "  /* unfitted */\n",
       "  background-color: var(--sklearn-color-unfitted-level-0);\n",
       "}\n",
       "\n",
       "#sk-container-id-1 div.sk-toggleable__content.fitted {\n",
       "  /* fitted */\n",
       "  background-color: var(--sklearn-color-fitted-level-0);\n",
       "}\n",
       "\n",
       "#sk-container-id-1 div.sk-toggleable__content pre {\n",
       "  margin: 0.2em;\n",
       "  border-radius: 0.25em;\n",
       "  color: var(--sklearn-color-text);\n",
       "  /* unfitted */\n",
       "  background-color: var(--sklearn-color-unfitted-level-0);\n",
       "}\n",
       "\n",
       "#sk-container-id-1 div.sk-toggleable__content.fitted pre {\n",
       "  /* unfitted */\n",
       "  background-color: var(--sklearn-color-fitted-level-0);\n",
       "}\n",
       "\n",
       "#sk-container-id-1 input.sk-toggleable__control:checked~div.sk-toggleable__content {\n",
       "  /* Expand drop-down */\n",
       "  max-height: 200px;\n",
       "  max-width: 100%;\n",
       "  overflow: auto;\n",
       "}\n",
       "\n",
       "#sk-container-id-1 input.sk-toggleable__control:checked~label.sk-toggleable__label-arrow:before {\n",
       "  content: \"▾\";\n",
       "}\n",
       "\n",
       "/* Pipeline/ColumnTransformer-specific style */\n",
       "\n",
       "#sk-container-id-1 div.sk-label input.sk-toggleable__control:checked~label.sk-toggleable__label {\n",
       "  color: var(--sklearn-color-text);\n",
       "  background-color: var(--sklearn-color-unfitted-level-2);\n",
       "}\n",
       "\n",
       "#sk-container-id-1 div.sk-label.fitted input.sk-toggleable__control:checked~label.sk-toggleable__label {\n",
       "  background-color: var(--sklearn-color-fitted-level-2);\n",
       "}\n",
       "\n",
       "/* Estimator-specific style */\n",
       "\n",
       "/* Colorize estimator box */\n",
       "#sk-container-id-1 div.sk-estimator input.sk-toggleable__control:checked~label.sk-toggleable__label {\n",
       "  /* unfitted */\n",
       "  background-color: var(--sklearn-color-unfitted-level-2);\n",
       "}\n",
       "\n",
       "#sk-container-id-1 div.sk-estimator.fitted input.sk-toggleable__control:checked~label.sk-toggleable__label {\n",
       "  /* fitted */\n",
       "  background-color: var(--sklearn-color-fitted-level-2);\n",
       "}\n",
       "\n",
       "#sk-container-id-1 div.sk-label label.sk-toggleable__label,\n",
       "#sk-container-id-1 div.sk-label label {\n",
       "  /* The background is the default theme color */\n",
       "  color: var(--sklearn-color-text-on-default-background);\n",
       "}\n",
       "\n",
       "/* On hover, darken the color of the background */\n",
       "#sk-container-id-1 div.sk-label:hover label.sk-toggleable__label {\n",
       "  color: var(--sklearn-color-text);\n",
       "  background-color: var(--sklearn-color-unfitted-level-2);\n",
       "}\n",
       "\n",
       "/* Label box, darken color on hover, fitted */\n",
       "#sk-container-id-1 div.sk-label.fitted:hover label.sk-toggleable__label.fitted {\n",
       "  color: var(--sklearn-color-text);\n",
       "  background-color: var(--sklearn-color-fitted-level-2);\n",
       "}\n",
       "\n",
       "/* Estimator label */\n",
       "\n",
       "#sk-container-id-1 div.sk-label label {\n",
       "  font-family: monospace;\n",
       "  font-weight: bold;\n",
       "  display: inline-block;\n",
       "  line-height: 1.2em;\n",
       "}\n",
       "\n",
       "#sk-container-id-1 div.sk-label-container {\n",
       "  text-align: center;\n",
       "}\n",
       "\n",
       "/* Estimator-specific */\n",
       "#sk-container-id-1 div.sk-estimator {\n",
       "  font-family: monospace;\n",
       "  border: 1px dotted var(--sklearn-color-border-box);\n",
       "  border-radius: 0.25em;\n",
       "  box-sizing: border-box;\n",
       "  margin-bottom: 0.5em;\n",
       "  /* unfitted */\n",
       "  background-color: var(--sklearn-color-unfitted-level-0);\n",
       "}\n",
       "\n",
       "#sk-container-id-1 div.sk-estimator.fitted {\n",
       "  /* fitted */\n",
       "  background-color: var(--sklearn-color-fitted-level-0);\n",
       "}\n",
       "\n",
       "/* on hover */\n",
       "#sk-container-id-1 div.sk-estimator:hover {\n",
       "  /* unfitted */\n",
       "  background-color: var(--sklearn-color-unfitted-level-2);\n",
       "}\n",
       "\n",
       "#sk-container-id-1 div.sk-estimator.fitted:hover {\n",
       "  /* fitted */\n",
       "  background-color: var(--sklearn-color-fitted-level-2);\n",
       "}\n",
       "\n",
       "/* Specification for estimator info (e.g. \"i\" and \"?\") */\n",
       "\n",
       "/* Common style for \"i\" and \"?\" */\n",
       "\n",
       ".sk-estimator-doc-link,\n",
       "a:link.sk-estimator-doc-link,\n",
       "a:visited.sk-estimator-doc-link {\n",
       "  float: right;\n",
       "  font-size: smaller;\n",
       "  line-height: 1em;\n",
       "  font-family: monospace;\n",
       "  background-color: var(--sklearn-color-background);\n",
       "  border-radius: 1em;\n",
       "  height: 1em;\n",
       "  width: 1em;\n",
       "  text-decoration: none !important;\n",
       "  margin-left: 1ex;\n",
       "  /* unfitted */\n",
       "  border: var(--sklearn-color-unfitted-level-1) 1pt solid;\n",
       "  color: var(--sklearn-color-unfitted-level-1);\n",
       "}\n",
       "\n",
       ".sk-estimator-doc-link.fitted,\n",
       "a:link.sk-estimator-doc-link.fitted,\n",
       "a:visited.sk-estimator-doc-link.fitted {\n",
       "  /* fitted */\n",
       "  border: var(--sklearn-color-fitted-level-1) 1pt solid;\n",
       "  color: var(--sklearn-color-fitted-level-1);\n",
       "}\n",
       "\n",
       "/* On hover */\n",
       "div.sk-estimator:hover .sk-estimator-doc-link:hover,\n",
       ".sk-estimator-doc-link:hover,\n",
       "div.sk-label-container:hover .sk-estimator-doc-link:hover,\n",
       ".sk-estimator-doc-link:hover {\n",
       "  /* unfitted */\n",
       "  background-color: var(--sklearn-color-unfitted-level-3);\n",
       "  color: var(--sklearn-color-background);\n",
       "  text-decoration: none;\n",
       "}\n",
       "\n",
       "div.sk-estimator.fitted:hover .sk-estimator-doc-link.fitted:hover,\n",
       ".sk-estimator-doc-link.fitted:hover,\n",
       "div.sk-label-container:hover .sk-estimator-doc-link.fitted:hover,\n",
       ".sk-estimator-doc-link.fitted:hover {\n",
       "  /* fitted */\n",
       "  background-color: var(--sklearn-color-fitted-level-3);\n",
       "  color: var(--sklearn-color-background);\n",
       "  text-decoration: none;\n",
       "}\n",
       "\n",
       "/* Span, style for the box shown on hovering the info icon */\n",
       ".sk-estimator-doc-link span {\n",
       "  display: none;\n",
       "  z-index: 9999;\n",
       "  position: relative;\n",
       "  font-weight: normal;\n",
       "  right: .2ex;\n",
       "  padding: .5ex;\n",
       "  margin: .5ex;\n",
       "  width: min-content;\n",
       "  min-width: 20ex;\n",
       "  max-width: 50ex;\n",
       "  color: var(--sklearn-color-text);\n",
       "  box-shadow: 2pt 2pt 4pt #999;\n",
       "  /* unfitted */\n",
       "  background: var(--sklearn-color-unfitted-level-0);\n",
       "  border: .5pt solid var(--sklearn-color-unfitted-level-3);\n",
       "}\n",
       "\n",
       ".sk-estimator-doc-link.fitted span {\n",
       "  /* fitted */\n",
       "  background: var(--sklearn-color-fitted-level-0);\n",
       "  border: var(--sklearn-color-fitted-level-3);\n",
       "}\n",
       "\n",
       ".sk-estimator-doc-link:hover span {\n",
       "  display: block;\n",
       "}\n",
       "\n",
       "/* \"?\"-specific style due to the `<a>` HTML tag */\n",
       "\n",
       "#sk-container-id-1 a.estimator_doc_link {\n",
       "  float: right;\n",
       "  font-size: 1rem;\n",
       "  line-height: 1em;\n",
       "  font-family: monospace;\n",
       "  background-color: var(--sklearn-color-background);\n",
       "  border-radius: 1rem;\n",
       "  height: 1rem;\n",
       "  width: 1rem;\n",
       "  text-decoration: none;\n",
       "  /* unfitted */\n",
       "  color: var(--sklearn-color-unfitted-level-1);\n",
       "  border: var(--sklearn-color-unfitted-level-1) 1pt solid;\n",
       "}\n",
       "\n",
       "#sk-container-id-1 a.estimator_doc_link.fitted {\n",
       "  /* fitted */\n",
       "  border: var(--sklearn-color-fitted-level-1) 1pt solid;\n",
       "  color: var(--sklearn-color-fitted-level-1);\n",
       "}\n",
       "\n",
       "/* On hover */\n",
       "#sk-container-id-1 a.estimator_doc_link:hover {\n",
       "  /* unfitted */\n",
       "  background-color: var(--sklearn-color-unfitted-level-3);\n",
       "  color: var(--sklearn-color-background);\n",
       "  text-decoration: none;\n",
       "}\n",
       "\n",
       "#sk-container-id-1 a.estimator_doc_link.fitted:hover {\n",
       "  /* fitted */\n",
       "  background-color: var(--sklearn-color-fitted-level-3);\n",
       "}\n",
       "</style><div id=\"sk-container-id-1\" class=\"sk-top-container\"><div class=\"sk-text-repr-fallback\"><pre>LinearDiscriminantAnalysis(store_covariance=True)</pre><b>In a Jupyter environment, please rerun this cell to show the HTML representation or trust the notebook. <br />On GitHub, the HTML representation is unable to render, please try loading this page with nbviewer.org.</b></div><div class=\"sk-container\" hidden><div class=\"sk-item\"><div class=\"sk-estimator fitted sk-toggleable\"><input class=\"sk-toggleable__control sk-hidden--visually\" id=\"sk-estimator-id-1\" type=\"checkbox\" checked><label for=\"sk-estimator-id-1\" class=\"sk-toggleable__label fitted sk-toggleable__label-arrow fitted\">&nbsp;&nbsp;LinearDiscriminantAnalysis<a class=\"sk-estimator-doc-link fitted\" rel=\"noreferrer\" target=\"_blank\" href=\"https://scikit-learn.org/1.5/modules/generated/sklearn.discriminant_analysis.LinearDiscriminantAnalysis.html\">?<span>Documentation for LinearDiscriminantAnalysis</span></a><span class=\"sk-estimator-doc-link fitted\">i<span>Fitted</span></span></label><div class=\"sk-toggleable__content fitted\"><pre>LinearDiscriminantAnalysis(store_covariance=True)</pre></div> </div></div></div></div>"
      ],
      "text/plain": [
       "LinearDiscriminantAnalysis(store_covariance=True)"
      ]
     },
     "execution_count": 50,
     "metadata": {},
     "output_type": "execute_result"
    }
   ],
   "source": [
    "X_train, X_test = [M.drop(columns=['intercept'])\n",
    "                   for M in [X_train, X_test]]\n",
    "lda.fit(X_train, L_train)"
   ]
  },
  {
   "cell_type": "code",
   "execution_count": 52,
   "id": "346ad4e9-4ae1-4c0b-a508-fd87d6360de0",
   "metadata": {},
   "outputs": [
    {
     "data": {
      "text/plain": [
       "array([[ 0.04279022,  0.03389409],\n",
       "       [-0.03954635, -0.03132544]])"
      ]
     },
     "execution_count": 52,
     "metadata": {},
     "output_type": "execute_result"
    }
   ],
   "source": [
    "lda.means_"
   ]
  },
  {
   "cell_type": "code",
   "execution_count": 54,
   "id": "4313b084-1d50-4a9f-b4d0-5511b1f68173",
   "metadata": {},
   "outputs": [
    {
     "data": {
      "text/plain": [
       "array(['Down', 'Up'], dtype='<U4')"
      ]
     },
     "execution_count": 54,
     "metadata": {},
     "output_type": "execute_result"
    }
   ],
   "source": [
    "lda.classes_"
   ]
  },
  {
   "cell_type": "code",
   "execution_count": 56,
   "id": "9763c1af-4f2e-4808-a693-32d1212174b4",
   "metadata": {},
   "outputs": [
    {
     "data": {
      "text/plain": [
       "array([[-0.64201904],\n",
       "       [-0.51352928]])"
      ]
     },
     "execution_count": 56,
     "metadata": {},
     "output_type": "execute_result"
    }
   ],
   "source": [
    "lda.scalings_"
   ]
  },
  {
   "cell_type": "code",
   "execution_count": 58,
   "id": "e8d55ea7-f08c-4938-bbd8-f199c5f7e60b",
   "metadata": {},
   "outputs": [],
   "source": [
    "lda_pred = lda.predict(X_test)"
   ]
  },
  {
   "cell_type": "code",
   "execution_count": 60,
   "id": "2abaa87a-c548-49ac-98ae-479cc407cd84",
   "metadata": {},
   "outputs": [
    {
     "data": {
      "text/html": [
       "<div>\n",
       "<style scoped>\n",
       "    .dataframe tbody tr th:only-of-type {\n",
       "        vertical-align: middle;\n",
       "    }\n",
       "\n",
       "    .dataframe tbody tr th {\n",
       "        vertical-align: top;\n",
       "    }\n",
       "\n",
       "    .dataframe thead th {\n",
       "        text-align: right;\n",
       "    }\n",
       "</style>\n",
       "<table border=\"1\" class=\"dataframe\">\n",
       "  <thead>\n",
       "    <tr style=\"text-align: right;\">\n",
       "      <th>Truth</th>\n",
       "      <th>Down</th>\n",
       "      <th>Up</th>\n",
       "    </tr>\n",
       "    <tr>\n",
       "      <th>Predicted</th>\n",
       "      <th></th>\n",
       "      <th></th>\n",
       "    </tr>\n",
       "  </thead>\n",
       "  <tbody>\n",
       "    <tr>\n",
       "      <th>Down</th>\n",
       "      <td>35</td>\n",
       "      <td>35</td>\n",
       "    </tr>\n",
       "    <tr>\n",
       "      <th>Up</th>\n",
       "      <td>76</td>\n",
       "      <td>106</td>\n",
       "    </tr>\n",
       "  </tbody>\n",
       "</table>\n",
       "</div>"
      ],
      "text/plain": [
       "Truth      Down   Up\n",
       "Predicted           \n",
       "Down         35   35\n",
       "Up           76  106"
      ]
     },
     "execution_count": 60,
     "metadata": {},
     "output_type": "execute_result"
    }
   ],
   "source": [
    "confusion_table(lda_pred, L_test)"
   ]
  },
  {
   "cell_type": "code",
   "execution_count": 62,
   "id": "b542b567-3e41-4dec-93d9-3d99bd81a2a4",
   "metadata": {},
   "outputs": [
    {
     "data": {
      "text/plain": [
       "True"
      ]
     },
     "execution_count": 62,
     "metadata": {},
     "output_type": "execute_result"
    }
   ],
   "source": [
    "lda_prob = lda.predict_proba(X_test)\n",
    "np.all(\n",
    "       np.where(lda_prob[:,1] >= 0.5, 'Up','Down') == lda_pred\n",
    "       )"
   ]
  },
  {
   "cell_type": "code",
   "execution_count": 64,
   "id": "2eeaaf09-65eb-4a52-979b-7fe6be5cd443",
   "metadata": {},
   "outputs": [
    {
     "data": {
      "text/plain": [
       "True"
      ]
     },
     "execution_count": 64,
     "metadata": {},
     "output_type": "execute_result"
    }
   ],
   "source": [
    "np.all(\n",
    "       [lda.classes_[i] for i in np.argmax(lda_prob, 1)] == lda_pred\n",
    "       )"
   ]
  },
  {
   "cell_type": "code",
   "execution_count": 66,
   "id": "6ce12208-3e2f-4b3e-81bd-6dac738198e5",
   "metadata": {},
   "outputs": [
    {
     "data": {
      "text/plain": [
       "0"
      ]
     },
     "execution_count": 66,
     "metadata": {},
     "output_type": "execute_result"
    }
   ],
   "source": [
    "np.sum(lda_prob[:,0] > 0.9)"
   ]
  },
  {
   "cell_type": "markdown",
   "id": "dcdd9abc-fc41-4c97-a663-6cccfe48c7b8",
   "metadata": {},
   "source": [
    "### Naive Bayes"
   ]
  },
  {
   "cell_type": "code",
   "execution_count": 69,
   "id": "9b946193-34f5-4d4a-93bf-717ef5eb0f97",
   "metadata": {},
   "outputs": [
    {
     "data": {
      "text/html": [
       "<style>#sk-container-id-2 {\n",
       "  /* Definition of color scheme common for light and dark mode */\n",
       "  --sklearn-color-text: black;\n",
       "  --sklearn-color-line: gray;\n",
       "  /* Definition of color scheme for unfitted estimators */\n",
       "  --sklearn-color-unfitted-level-0: #fff5e6;\n",
       "  --sklearn-color-unfitted-level-1: #f6e4d2;\n",
       "  --sklearn-color-unfitted-level-2: #ffe0b3;\n",
       "  --sklearn-color-unfitted-level-3: chocolate;\n",
       "  /* Definition of color scheme for fitted estimators */\n",
       "  --sklearn-color-fitted-level-0: #f0f8ff;\n",
       "  --sklearn-color-fitted-level-1: #d4ebff;\n",
       "  --sklearn-color-fitted-level-2: #b3dbfd;\n",
       "  --sklearn-color-fitted-level-3: cornflowerblue;\n",
       "\n",
       "  /* Specific color for light theme */\n",
       "  --sklearn-color-text-on-default-background: var(--sg-text-color, var(--theme-code-foreground, var(--jp-content-font-color1, black)));\n",
       "  --sklearn-color-background: var(--sg-background-color, var(--theme-background, var(--jp-layout-color0, white)));\n",
       "  --sklearn-color-border-box: var(--sg-text-color, var(--theme-code-foreground, var(--jp-content-font-color1, black)));\n",
       "  --sklearn-color-icon: #696969;\n",
       "\n",
       "  @media (prefers-color-scheme: dark) {\n",
       "    /* Redefinition of color scheme for dark theme */\n",
       "    --sklearn-color-text-on-default-background: var(--sg-text-color, var(--theme-code-foreground, var(--jp-content-font-color1, white)));\n",
       "    --sklearn-color-background: var(--sg-background-color, var(--theme-background, var(--jp-layout-color0, #111)));\n",
       "    --sklearn-color-border-box: var(--sg-text-color, var(--theme-code-foreground, var(--jp-content-font-color1, white)));\n",
       "    --sklearn-color-icon: #878787;\n",
       "  }\n",
       "}\n",
       "\n",
       "#sk-container-id-2 {\n",
       "  color: var(--sklearn-color-text);\n",
       "}\n",
       "\n",
       "#sk-container-id-2 pre {\n",
       "  padding: 0;\n",
       "}\n",
       "\n",
       "#sk-container-id-2 input.sk-hidden--visually {\n",
       "  border: 0;\n",
       "  clip: rect(1px 1px 1px 1px);\n",
       "  clip: rect(1px, 1px, 1px, 1px);\n",
       "  height: 1px;\n",
       "  margin: -1px;\n",
       "  overflow: hidden;\n",
       "  padding: 0;\n",
       "  position: absolute;\n",
       "  width: 1px;\n",
       "}\n",
       "\n",
       "#sk-container-id-2 div.sk-dashed-wrapped {\n",
       "  border: 1px dashed var(--sklearn-color-line);\n",
       "  margin: 0 0.4em 0.5em 0.4em;\n",
       "  box-sizing: border-box;\n",
       "  padding-bottom: 0.4em;\n",
       "  background-color: var(--sklearn-color-background);\n",
       "}\n",
       "\n",
       "#sk-container-id-2 div.sk-container {\n",
       "  /* jupyter's `normalize.less` sets `[hidden] { display: none; }`\n",
       "     but bootstrap.min.css set `[hidden] { display: none !important; }`\n",
       "     so we also need the `!important` here to be able to override the\n",
       "     default hidden behavior on the sphinx rendered scikit-learn.org.\n",
       "     See: https://github.com/scikit-learn/scikit-learn/issues/21755 */\n",
       "  display: inline-block !important;\n",
       "  position: relative;\n",
       "}\n",
       "\n",
       "#sk-container-id-2 div.sk-text-repr-fallback {\n",
       "  display: none;\n",
       "}\n",
       "\n",
       "div.sk-parallel-item,\n",
       "div.sk-serial,\n",
       "div.sk-item {\n",
       "  /* draw centered vertical line to link estimators */\n",
       "  background-image: linear-gradient(var(--sklearn-color-text-on-default-background), var(--sklearn-color-text-on-default-background));\n",
       "  background-size: 2px 100%;\n",
       "  background-repeat: no-repeat;\n",
       "  background-position: center center;\n",
       "}\n",
       "\n",
       "/* Parallel-specific style estimator block */\n",
       "\n",
       "#sk-container-id-2 div.sk-parallel-item::after {\n",
       "  content: \"\";\n",
       "  width: 100%;\n",
       "  border-bottom: 2px solid var(--sklearn-color-text-on-default-background);\n",
       "  flex-grow: 1;\n",
       "}\n",
       "\n",
       "#sk-container-id-2 div.sk-parallel {\n",
       "  display: flex;\n",
       "  align-items: stretch;\n",
       "  justify-content: center;\n",
       "  background-color: var(--sklearn-color-background);\n",
       "  position: relative;\n",
       "}\n",
       "\n",
       "#sk-container-id-2 div.sk-parallel-item {\n",
       "  display: flex;\n",
       "  flex-direction: column;\n",
       "}\n",
       "\n",
       "#sk-container-id-2 div.sk-parallel-item:first-child::after {\n",
       "  align-self: flex-end;\n",
       "  width: 50%;\n",
       "}\n",
       "\n",
       "#sk-container-id-2 div.sk-parallel-item:last-child::after {\n",
       "  align-self: flex-start;\n",
       "  width: 50%;\n",
       "}\n",
       "\n",
       "#sk-container-id-2 div.sk-parallel-item:only-child::after {\n",
       "  width: 0;\n",
       "}\n",
       "\n",
       "/* Serial-specific style estimator block */\n",
       "\n",
       "#sk-container-id-2 div.sk-serial {\n",
       "  display: flex;\n",
       "  flex-direction: column;\n",
       "  align-items: center;\n",
       "  background-color: var(--sklearn-color-background);\n",
       "  padding-right: 1em;\n",
       "  padding-left: 1em;\n",
       "}\n",
       "\n",
       "\n",
       "/* Toggleable style: style used for estimator/Pipeline/ColumnTransformer box that is\n",
       "clickable and can be expanded/collapsed.\n",
       "- Pipeline and ColumnTransformer use this feature and define the default style\n",
       "- Estimators will overwrite some part of the style using the `sk-estimator` class\n",
       "*/\n",
       "\n",
       "/* Pipeline and ColumnTransformer style (default) */\n",
       "\n",
       "#sk-container-id-2 div.sk-toggleable {\n",
       "  /* Default theme specific background. It is overwritten whether we have a\n",
       "  specific estimator or a Pipeline/ColumnTransformer */\n",
       "  background-color: var(--sklearn-color-background);\n",
       "}\n",
       "\n",
       "/* Toggleable label */\n",
       "#sk-container-id-2 label.sk-toggleable__label {\n",
       "  cursor: pointer;\n",
       "  display: block;\n",
       "  width: 100%;\n",
       "  margin-bottom: 0;\n",
       "  padding: 0.5em;\n",
       "  box-sizing: border-box;\n",
       "  text-align: center;\n",
       "}\n",
       "\n",
       "#sk-container-id-2 label.sk-toggleable__label-arrow:before {\n",
       "  /* Arrow on the left of the label */\n",
       "  content: \"▸\";\n",
       "  float: left;\n",
       "  margin-right: 0.25em;\n",
       "  color: var(--sklearn-color-icon);\n",
       "}\n",
       "\n",
       "#sk-container-id-2 label.sk-toggleable__label-arrow:hover:before {\n",
       "  color: var(--sklearn-color-text);\n",
       "}\n",
       "\n",
       "/* Toggleable content - dropdown */\n",
       "\n",
       "#sk-container-id-2 div.sk-toggleable__content {\n",
       "  max-height: 0;\n",
       "  max-width: 0;\n",
       "  overflow: hidden;\n",
       "  text-align: left;\n",
       "  /* unfitted */\n",
       "  background-color: var(--sklearn-color-unfitted-level-0);\n",
       "}\n",
       "\n",
       "#sk-container-id-2 div.sk-toggleable__content.fitted {\n",
       "  /* fitted */\n",
       "  background-color: var(--sklearn-color-fitted-level-0);\n",
       "}\n",
       "\n",
       "#sk-container-id-2 div.sk-toggleable__content pre {\n",
       "  margin: 0.2em;\n",
       "  border-radius: 0.25em;\n",
       "  color: var(--sklearn-color-text);\n",
       "  /* unfitted */\n",
       "  background-color: var(--sklearn-color-unfitted-level-0);\n",
       "}\n",
       "\n",
       "#sk-container-id-2 div.sk-toggleable__content.fitted pre {\n",
       "  /* unfitted */\n",
       "  background-color: var(--sklearn-color-fitted-level-0);\n",
       "}\n",
       "\n",
       "#sk-container-id-2 input.sk-toggleable__control:checked~div.sk-toggleable__content {\n",
       "  /* Expand drop-down */\n",
       "  max-height: 200px;\n",
       "  max-width: 100%;\n",
       "  overflow: auto;\n",
       "}\n",
       "\n",
       "#sk-container-id-2 input.sk-toggleable__control:checked~label.sk-toggleable__label-arrow:before {\n",
       "  content: \"▾\";\n",
       "}\n",
       "\n",
       "/* Pipeline/ColumnTransformer-specific style */\n",
       "\n",
       "#sk-container-id-2 div.sk-label input.sk-toggleable__control:checked~label.sk-toggleable__label {\n",
       "  color: var(--sklearn-color-text);\n",
       "  background-color: var(--sklearn-color-unfitted-level-2);\n",
       "}\n",
       "\n",
       "#sk-container-id-2 div.sk-label.fitted input.sk-toggleable__control:checked~label.sk-toggleable__label {\n",
       "  background-color: var(--sklearn-color-fitted-level-2);\n",
       "}\n",
       "\n",
       "/* Estimator-specific style */\n",
       "\n",
       "/* Colorize estimator box */\n",
       "#sk-container-id-2 div.sk-estimator input.sk-toggleable__control:checked~label.sk-toggleable__label {\n",
       "  /* unfitted */\n",
       "  background-color: var(--sklearn-color-unfitted-level-2);\n",
       "}\n",
       "\n",
       "#sk-container-id-2 div.sk-estimator.fitted input.sk-toggleable__control:checked~label.sk-toggleable__label {\n",
       "  /* fitted */\n",
       "  background-color: var(--sklearn-color-fitted-level-2);\n",
       "}\n",
       "\n",
       "#sk-container-id-2 div.sk-label label.sk-toggleable__label,\n",
       "#sk-container-id-2 div.sk-label label {\n",
       "  /* The background is the default theme color */\n",
       "  color: var(--sklearn-color-text-on-default-background);\n",
       "}\n",
       "\n",
       "/* On hover, darken the color of the background */\n",
       "#sk-container-id-2 div.sk-label:hover label.sk-toggleable__label {\n",
       "  color: var(--sklearn-color-text);\n",
       "  background-color: var(--sklearn-color-unfitted-level-2);\n",
       "}\n",
       "\n",
       "/* Label box, darken color on hover, fitted */\n",
       "#sk-container-id-2 div.sk-label.fitted:hover label.sk-toggleable__label.fitted {\n",
       "  color: var(--sklearn-color-text);\n",
       "  background-color: var(--sklearn-color-fitted-level-2);\n",
       "}\n",
       "\n",
       "/* Estimator label */\n",
       "\n",
       "#sk-container-id-2 div.sk-label label {\n",
       "  font-family: monospace;\n",
       "  font-weight: bold;\n",
       "  display: inline-block;\n",
       "  line-height: 1.2em;\n",
       "}\n",
       "\n",
       "#sk-container-id-2 div.sk-label-container {\n",
       "  text-align: center;\n",
       "}\n",
       "\n",
       "/* Estimator-specific */\n",
       "#sk-container-id-2 div.sk-estimator {\n",
       "  font-family: monospace;\n",
       "  border: 1px dotted var(--sklearn-color-border-box);\n",
       "  border-radius: 0.25em;\n",
       "  box-sizing: border-box;\n",
       "  margin-bottom: 0.5em;\n",
       "  /* unfitted */\n",
       "  background-color: var(--sklearn-color-unfitted-level-0);\n",
       "}\n",
       "\n",
       "#sk-container-id-2 div.sk-estimator.fitted {\n",
       "  /* fitted */\n",
       "  background-color: var(--sklearn-color-fitted-level-0);\n",
       "}\n",
       "\n",
       "/* on hover */\n",
       "#sk-container-id-2 div.sk-estimator:hover {\n",
       "  /* unfitted */\n",
       "  background-color: var(--sklearn-color-unfitted-level-2);\n",
       "}\n",
       "\n",
       "#sk-container-id-2 div.sk-estimator.fitted:hover {\n",
       "  /* fitted */\n",
       "  background-color: var(--sklearn-color-fitted-level-2);\n",
       "}\n",
       "\n",
       "/* Specification for estimator info (e.g. \"i\" and \"?\") */\n",
       "\n",
       "/* Common style for \"i\" and \"?\" */\n",
       "\n",
       ".sk-estimator-doc-link,\n",
       "a:link.sk-estimator-doc-link,\n",
       "a:visited.sk-estimator-doc-link {\n",
       "  float: right;\n",
       "  font-size: smaller;\n",
       "  line-height: 1em;\n",
       "  font-family: monospace;\n",
       "  background-color: var(--sklearn-color-background);\n",
       "  border-radius: 1em;\n",
       "  height: 1em;\n",
       "  width: 1em;\n",
       "  text-decoration: none !important;\n",
       "  margin-left: 1ex;\n",
       "  /* unfitted */\n",
       "  border: var(--sklearn-color-unfitted-level-1) 1pt solid;\n",
       "  color: var(--sklearn-color-unfitted-level-1);\n",
       "}\n",
       "\n",
       ".sk-estimator-doc-link.fitted,\n",
       "a:link.sk-estimator-doc-link.fitted,\n",
       "a:visited.sk-estimator-doc-link.fitted {\n",
       "  /* fitted */\n",
       "  border: var(--sklearn-color-fitted-level-1) 1pt solid;\n",
       "  color: var(--sklearn-color-fitted-level-1);\n",
       "}\n",
       "\n",
       "/* On hover */\n",
       "div.sk-estimator:hover .sk-estimator-doc-link:hover,\n",
       ".sk-estimator-doc-link:hover,\n",
       "div.sk-label-container:hover .sk-estimator-doc-link:hover,\n",
       ".sk-estimator-doc-link:hover {\n",
       "  /* unfitted */\n",
       "  background-color: var(--sklearn-color-unfitted-level-3);\n",
       "  color: var(--sklearn-color-background);\n",
       "  text-decoration: none;\n",
       "}\n",
       "\n",
       "div.sk-estimator.fitted:hover .sk-estimator-doc-link.fitted:hover,\n",
       ".sk-estimator-doc-link.fitted:hover,\n",
       "div.sk-label-container:hover .sk-estimator-doc-link.fitted:hover,\n",
       ".sk-estimator-doc-link.fitted:hover {\n",
       "  /* fitted */\n",
       "  background-color: var(--sklearn-color-fitted-level-3);\n",
       "  color: var(--sklearn-color-background);\n",
       "  text-decoration: none;\n",
       "}\n",
       "\n",
       "/* Span, style for the box shown on hovering the info icon */\n",
       ".sk-estimator-doc-link span {\n",
       "  display: none;\n",
       "  z-index: 9999;\n",
       "  position: relative;\n",
       "  font-weight: normal;\n",
       "  right: .2ex;\n",
       "  padding: .5ex;\n",
       "  margin: .5ex;\n",
       "  width: min-content;\n",
       "  min-width: 20ex;\n",
       "  max-width: 50ex;\n",
       "  color: var(--sklearn-color-text);\n",
       "  box-shadow: 2pt 2pt 4pt #999;\n",
       "  /* unfitted */\n",
       "  background: var(--sklearn-color-unfitted-level-0);\n",
       "  border: .5pt solid var(--sklearn-color-unfitted-level-3);\n",
       "}\n",
       "\n",
       ".sk-estimator-doc-link.fitted span {\n",
       "  /* fitted */\n",
       "  background: var(--sklearn-color-fitted-level-0);\n",
       "  border: var(--sklearn-color-fitted-level-3);\n",
       "}\n",
       "\n",
       ".sk-estimator-doc-link:hover span {\n",
       "  display: block;\n",
       "}\n",
       "\n",
       "/* \"?\"-specific style due to the `<a>` HTML tag */\n",
       "\n",
       "#sk-container-id-2 a.estimator_doc_link {\n",
       "  float: right;\n",
       "  font-size: 1rem;\n",
       "  line-height: 1em;\n",
       "  font-family: monospace;\n",
       "  background-color: var(--sklearn-color-background);\n",
       "  border-radius: 1rem;\n",
       "  height: 1rem;\n",
       "  width: 1rem;\n",
       "  text-decoration: none;\n",
       "  /* unfitted */\n",
       "  color: var(--sklearn-color-unfitted-level-1);\n",
       "  border: var(--sklearn-color-unfitted-level-1) 1pt solid;\n",
       "}\n",
       "\n",
       "#sk-container-id-2 a.estimator_doc_link.fitted {\n",
       "  /* fitted */\n",
       "  border: var(--sklearn-color-fitted-level-1) 1pt solid;\n",
       "  color: var(--sklearn-color-fitted-level-1);\n",
       "}\n",
       "\n",
       "/* On hover */\n",
       "#sk-container-id-2 a.estimator_doc_link:hover {\n",
       "  /* unfitted */\n",
       "  background-color: var(--sklearn-color-unfitted-level-3);\n",
       "  color: var(--sklearn-color-background);\n",
       "  text-decoration: none;\n",
       "}\n",
       "\n",
       "#sk-container-id-2 a.estimator_doc_link.fitted:hover {\n",
       "  /* fitted */\n",
       "  background-color: var(--sklearn-color-fitted-level-3);\n",
       "}\n",
       "</style><div id=\"sk-container-id-2\" class=\"sk-top-container\"><div class=\"sk-text-repr-fallback\"><pre>GaussianNB()</pre><b>In a Jupyter environment, please rerun this cell to show the HTML representation or trust the notebook. <br />On GitHub, the HTML representation is unable to render, please try loading this page with nbviewer.org.</b></div><div class=\"sk-container\" hidden><div class=\"sk-item\"><div class=\"sk-estimator fitted sk-toggleable\"><input class=\"sk-toggleable__control sk-hidden--visually\" id=\"sk-estimator-id-2\" type=\"checkbox\" checked><label for=\"sk-estimator-id-2\" class=\"sk-toggleable__label fitted sk-toggleable__label-arrow fitted\">&nbsp;&nbsp;GaussianNB<a class=\"sk-estimator-doc-link fitted\" rel=\"noreferrer\" target=\"_blank\" href=\"https://scikit-learn.org/1.5/modules/generated/sklearn.naive_bayes.GaussianNB.html\">?<span>Documentation for GaussianNB</span></a><span class=\"sk-estimator-doc-link fitted\">i<span>Fitted</span></span></label><div class=\"sk-toggleable__content fitted\"><pre>GaussianNB()</pre></div> </div></div></div></div>"
      ],
      "text/plain": [
       "GaussianNB()"
      ]
     },
     "execution_count": 69,
     "metadata": {},
     "output_type": "execute_result"
    }
   ],
   "source": [
    "NB = GaussianNB()\n",
    "NB.fit(X_train, L_train)"
   ]
  },
  {
   "cell_type": "code",
   "execution_count": 71,
   "id": "5cdfd6ba-0076-45aa-ac2c-99a209c450cf",
   "metadata": {},
   "outputs": [
    {
     "data": {
      "text/plain": [
       "array(['Down', 'Up'], dtype='<U4')"
      ]
     },
     "execution_count": 71,
     "metadata": {},
     "output_type": "execute_result"
    }
   ],
   "source": [
    "NB.classes_"
   ]
  },
  {
   "cell_type": "code",
   "execution_count": 73,
   "id": "a1f5bcda-ee55-4c03-aecd-f3442ef569a7",
   "metadata": {},
   "outputs": [
    {
     "data": {
      "text/plain": [
       "array([0.49198397, 0.50801603])"
      ]
     },
     "execution_count": 73,
     "metadata": {},
     "output_type": "execute_result"
    }
   ],
   "source": [
    "NB.class_prior_"
   ]
  },
  {
   "cell_type": "code",
   "execution_count": 75,
   "id": "cfb9ebc3-e7db-4c7f-9611-eaa9b06b7937",
   "metadata": {},
   "outputs": [
    {
     "data": {
      "text/plain": [
       "array([[ 0.04279022,  0.03389409],\n",
       "       [-0.03954635, -0.03132544]])"
      ]
     },
     "execution_count": 75,
     "metadata": {},
     "output_type": "execute_result"
    }
   ],
   "source": [
    "NB.theta_"
   ]
  },
  {
   "cell_type": "code",
   "execution_count": 77,
   "id": "204bf628-8228-465d-84cf-3747adcdf4e5",
   "metadata": {},
   "outputs": [
    {
     "data": {
      "text/plain": [
       "array([[1.50355429, 1.53246749],\n",
       "       [1.51401364, 1.48732877]])"
      ]
     },
     "execution_count": 77,
     "metadata": {},
     "output_type": "execute_result"
    }
   ],
   "source": [
    "NB.var_"
   ]
  },
  {
   "cell_type": "code",
   "execution_count": 79,
   "id": "0419ecf0-7ea3-4ee7-964a-8116e8d17c1a",
   "metadata": {},
   "outputs": [
    {
     "data": {
      "text/plain": [
       "Lag1    0.042790\n",
       "Lag2    0.033894\n",
       "dtype: float64"
      ]
     },
     "execution_count": 79,
     "metadata": {},
     "output_type": "execute_result"
    }
   ],
   "source": [
    "X_train[L_train == \"Down\"].mean()"
   ]
  },
  {
   "cell_type": "code",
   "execution_count": 81,
   "id": "482b0e8f-a63b-4844-b565-a9f3ef335d32",
   "metadata": {},
   "outputs": [
    {
     "data": {
      "text/plain": [
       "Lag1    1.503554\n",
       "Lag2    1.532467\n",
       "dtype: float64"
      ]
     },
     "execution_count": 81,
     "metadata": {},
     "output_type": "execute_result"
    }
   ],
   "source": [
    "X_train[L_train == \"Down\"].var(ddof=0)"
   ]
  },
  {
   "cell_type": "code",
   "execution_count": 83,
   "id": "ae25d7d3-7edc-4c52-af25-6a438984c56d",
   "metadata": {},
   "outputs": [
    {
     "data": {
      "text/html": [
       "<div>\n",
       "<style scoped>\n",
       "    .dataframe tbody tr th:only-of-type {\n",
       "        vertical-align: middle;\n",
       "    }\n",
       "\n",
       "    .dataframe tbody tr th {\n",
       "        vertical-align: top;\n",
       "    }\n",
       "\n",
       "    .dataframe thead th {\n",
       "        text-align: right;\n",
       "    }\n",
       "</style>\n",
       "<table border=\"1\" class=\"dataframe\">\n",
       "  <thead>\n",
       "    <tr style=\"text-align: right;\">\n",
       "      <th>Truth</th>\n",
       "      <th>Down</th>\n",
       "      <th>Up</th>\n",
       "    </tr>\n",
       "    <tr>\n",
       "      <th>Predicted</th>\n",
       "      <th></th>\n",
       "      <th></th>\n",
       "    </tr>\n",
       "  </thead>\n",
       "  <tbody>\n",
       "    <tr>\n",
       "      <th>Down</th>\n",
       "      <td>29</td>\n",
       "      <td>20</td>\n",
       "    </tr>\n",
       "    <tr>\n",
       "      <th>Up</th>\n",
       "      <td>82</td>\n",
       "      <td>121</td>\n",
       "    </tr>\n",
       "  </tbody>\n",
       "</table>\n",
       "</div>"
      ],
      "text/plain": [
       "Truth      Down   Up\n",
       "Predicted           \n",
       "Down         29   20\n",
       "Up           82  121"
      ]
     },
     "execution_count": 83,
     "metadata": {},
     "output_type": "execute_result"
    }
   ],
   "source": [
    "nb_labels = NB.predict(X_test)\n",
    "confusion_table(nb_labels, L_test)"
   ]
  },
  {
   "cell_type": "code",
   "execution_count": 85,
   "id": "0dd8c721-8b9a-4e2f-ae8d-390d9309cb09",
   "metadata": {},
   "outputs": [
    {
     "data": {
      "text/plain": [
       "array([[0.4873288 , 0.5126712 ],\n",
       "       [0.47623584, 0.52376416],\n",
       "       [0.46529531, 0.53470469],\n",
       "       [0.47484469, 0.52515531],\n",
       "       [0.49020587, 0.50979413]])"
      ]
     },
     "execution_count": 85,
     "metadata": {},
     "output_type": "execute_result"
    }
   ],
   "source": [
    "NB.predict_proba(X_test)[:5]"
   ]
  },
  {
   "cell_type": "markdown",
   "id": "4b457b5a-82b6-4478-9ad5-134369dbc2e5",
   "metadata": {},
   "source": [
    "### *K-Nearest Neighbors*"
   ]
  },
  {
   "cell_type": "code",
   "execution_count": 88,
   "id": "9f36a885-580d-47e2-a6fa-ccbf9d3a6dd2",
   "metadata": {},
   "outputs": [
    {
     "data": {
      "text/html": [
       "<div>\n",
       "<style scoped>\n",
       "    .dataframe tbody tr th:only-of-type {\n",
       "        vertical-align: middle;\n",
       "    }\n",
       "\n",
       "    .dataframe tbody tr th {\n",
       "        vertical-align: top;\n",
       "    }\n",
       "\n",
       "    .dataframe thead th {\n",
       "        text-align: right;\n",
       "    }\n",
       "</style>\n",
       "<table border=\"1\" class=\"dataframe\">\n",
       "  <thead>\n",
       "    <tr style=\"text-align: right;\">\n",
       "      <th>Truth</th>\n",
       "      <th>Down</th>\n",
       "      <th>Up</th>\n",
       "    </tr>\n",
       "    <tr>\n",
       "      <th>Predicted</th>\n",
       "      <th></th>\n",
       "      <th></th>\n",
       "    </tr>\n",
       "  </thead>\n",
       "  <tbody>\n",
       "    <tr>\n",
       "      <th>Down</th>\n",
       "      <td>43</td>\n",
       "      <td>58</td>\n",
       "    </tr>\n",
       "    <tr>\n",
       "      <th>Up</th>\n",
       "      <td>68</td>\n",
       "      <td>83</td>\n",
       "    </tr>\n",
       "  </tbody>\n",
       "</table>\n",
       "</div>"
      ],
      "text/plain": [
       "Truth      Down  Up\n",
       "Predicted          \n",
       "Down         43  58\n",
       "Up           68  83"
      ]
     },
     "execution_count": 88,
     "metadata": {},
     "output_type": "execute_result"
    }
   ],
   "source": [
    "knn1 = KNeighborsClassifier(n_neighbors=1)\n",
    "X_train, X_test = [np.asarray(X) for X in [X_train, X_test]]\n",
    "knn1.fit(X_train, L_train)\n",
    "knn1_pred = knn1.predict(X_test)\n",
    "confusion_table(knn1_pred, L_test)"
   ]
  },
  {
   "cell_type": "code",
   "execution_count": 90,
   "id": "5eb563a0-efa9-4d8e-bb20-a877368aeb93",
   "metadata": {},
   "outputs": [
    {
     "data": {
      "text/plain": [
       "(0.5, 0.5)"
      ]
     },
     "execution_count": 90,
     "metadata": {},
     "output_type": "execute_result"
    }
   ],
   "source": [
    "(83+43)/252, np.mean(knn1_pred == L_test)"
   ]
  },
  {
   "cell_type": "code",
   "execution_count": 92,
   "id": "294e97b4-3cb8-4549-a284-ba0113cdc33f",
   "metadata": {},
   "outputs": [
    {
     "data": {
      "text/plain": [
       "0.5317460317460317"
      ]
     },
     "execution_count": 92,
     "metadata": {},
     "output_type": "execute_result"
    }
   ],
   "source": [
    "knn3 = KNeighborsClassifier(n_neighbors=3)\n",
    "knn3_pred = knn3.fit(X_train, L_train).predict(X_test)\n",
    "np.mean(knn3_pred == L_test)"
   ]
  },
  {
   "cell_type": "code",
   "execution_count": 94,
   "id": "d40fe74f-0da5-4031-815f-5fac05fab04b",
   "metadata": {},
   "outputs": [
    {
     "data": {
      "text/plain": [
       "Purchase\n",
       "No     5474\n",
       "Yes     348\n",
       "Name: count, dtype: int64"
      ]
     },
     "execution_count": 94,
     "metadata": {},
     "output_type": "execute_result"
    }
   ],
   "source": [
    "Caravan = load_data(\"Caravan\")\n",
    "Purchase = Caravan.Purchase\n",
    "Purchase.value_counts()"
   ]
  },
  {
   "cell_type": "code",
   "execution_count": 96,
   "id": "cd0b8b1a-daad-4758-bc48-41bdcb7559d5",
   "metadata": {},
   "outputs": [
    {
     "data": {
      "text/plain": [
       "0.05977327378907592"
      ]
     },
     "execution_count": 96,
     "metadata": {},
     "output_type": "execute_result"
    }
   ],
   "source": [
    "348 / 5822"
   ]
  },
  {
   "cell_type": "code",
   "execution_count": 98,
   "id": "6441ab30-fa15-4f4a-8fb2-25cc4c1d52dd",
   "metadata": {},
   "outputs": [],
   "source": [
    "feature_df = Caravan.drop(columns = [\"Purchase\"])"
   ]
  },
  {
   "cell_type": "code",
   "execution_count": 100,
   "id": "53976eb3-93b5-46cb-8302-fec379df8c36",
   "metadata": {},
   "outputs": [],
   "source": [
    "scaler = StandardScaler(with_mean = True,\n",
    "                        with_std = True,\n",
    "                        copy = True)"
   ]
  },
  {
   "cell_type": "code",
   "execution_count": 102,
   "id": "32fd518b-707f-49fb-99a7-ee40014d279e",
   "metadata": {},
   "outputs": [],
   "source": [
    "scaler.fit(feature_df)\n",
    "X_std = scaler.transform(feature_df)"
   ]
  },
  {
   "cell_type": "code",
   "execution_count": 104,
   "id": "41140f30-a76d-4634-bab3-01c62f92fe38",
   "metadata": {},
   "outputs": [
    {
     "data": {
      "text/plain": [
       "MOSTYPE     1.000086\n",
       "MAANTHUI    1.000086\n",
       "MGEMOMV     1.000086\n",
       "MGEMLEEF    1.000086\n",
       "MOSHOOFD    1.000086\n",
       "              ...   \n",
       "AZEILPL     1.000086\n",
       "APLEZIER    1.000086\n",
       "AFIETS      1.000086\n",
       "AINBOED     1.000086\n",
       "ABYSTAND    1.000086\n",
       "Length: 85, dtype: float64"
      ]
     },
     "execution_count": 104,
     "metadata": {},
     "output_type": "execute_result"
    }
   ],
   "source": [
    "feature_std = pd.DataFrame(\n",
    "    X_std,\n",
    "    columns=feature_df.columns);\n",
    "feature_std.std()"
   ]
  },
  {
   "cell_type": "code",
   "execution_count": 106,
   "id": "507dba06-19f2-4002-9c57-295cd9e65625",
   "metadata": {},
   "outputs": [],
   "source": [
    "(X_train,\n",
    " X_test,\n",
    " y_train,\n",
    " y_test) = train_test_split(np.asarray(feature_std),\n",
    "                           Purchase,\n",
    "                           test_size=1000,\n",
    "                           random_state=0)"
   ]
  },
  {
   "cell_type": "code",
   "execution_count": 108,
   "id": "a45ff5fb-6f1f-4b02-8792-9cfb445b1f24",
   "metadata": {},
   "outputs": [
    {
     "data": {
      "text/plain": [
       "(0.111, 0.067)"
      ]
     },
     "execution_count": 108,
     "metadata": {},
     "output_type": "execute_result"
    }
   ],
   "source": [
    "knn1 = KNeighborsClassifier(n_neighbors=1)\n",
    "knn1_pred = knn1.fit(X_train, y_train).predict(X_test)\n",
    "np.mean(y_test != knn1_pred), np.mean(y_test != \"No\")"
   ]
  },
  {
   "cell_type": "code",
   "execution_count": 109,
   "id": "ea17087a-6045-44ba-ac5e-cbccde28366c",
   "metadata": {},
   "outputs": [
    {
     "data": {
      "text/html": [
       "<div>\n",
       "<style scoped>\n",
       "    .dataframe tbody tr th:only-of-type {\n",
       "        vertical-align: middle;\n",
       "    }\n",
       "\n",
       "    .dataframe tbody tr th {\n",
       "        vertical-align: top;\n",
       "    }\n",
       "\n",
       "    .dataframe thead th {\n",
       "        text-align: right;\n",
       "    }\n",
       "</style>\n",
       "<table border=\"1\" class=\"dataframe\">\n",
       "  <thead>\n",
       "    <tr style=\"text-align: right;\">\n",
       "      <th>Truth</th>\n",
       "      <th>No</th>\n",
       "      <th>Yes</th>\n",
       "    </tr>\n",
       "    <tr>\n",
       "      <th>Predicted</th>\n",
       "      <th></th>\n",
       "      <th></th>\n",
       "    </tr>\n",
       "  </thead>\n",
       "  <tbody>\n",
       "    <tr>\n",
       "      <th>No</th>\n",
       "      <td>880</td>\n",
       "      <td>58</td>\n",
       "    </tr>\n",
       "    <tr>\n",
       "      <th>Yes</th>\n",
       "      <td>53</td>\n",
       "      <td>9</td>\n",
       "    </tr>\n",
       "  </tbody>\n",
       "</table>\n",
       "</div>"
      ],
      "text/plain": [
       "Truth       No  Yes\n",
       "Predicted          \n",
       "No         880   58\n",
       "Yes         53    9"
      ]
     },
     "execution_count": 109,
     "metadata": {},
     "output_type": "execute_result"
    }
   ],
   "source": [
    "confusion_table(knn1_pred, y_test)"
   ]
  },
  {
   "cell_type": "code",
   "execution_count": 112,
   "id": "628e7233-c0dc-4ee0-9085-1c22c459c592",
   "metadata": {},
   "outputs": [
    {
     "data": {
      "text/plain": [
       "0.14516129032258066"
      ]
     },
     "execution_count": 112,
     "metadata": {},
     "output_type": "execute_result"
    }
   ],
   "source": [
    "9/(53+9)"
   ]
  },
  {
   "cell_type": "markdown",
   "id": "6d45df18-1ae5-4f27-bd20-c07783c21a69",
   "metadata": {},
   "source": [
    "### Tuning Parameters"
   ]
  },
  {
   "cell_type": "code",
   "execution_count": 115,
   "id": "d7a4837e-6bd9-44ee-bc3e-ad5854f32abf",
   "metadata": {},
   "outputs": [
    {
     "name": "stdout",
     "output_type": "stream",
     "text": [
      "K=1: # predicted to rent: 62,  # who did rent 9, accuracy 14.5%\n",
      "K=2: # predicted to rent:  6,  # who did rent 1, accuracy 16.7%\n",
      "K=3: # predicted to rent: 20,  # who did rent 3, accuracy 15.0%\n",
      "K=4: # predicted to rent:  4,  # who did rent 0, accuracy 0.0%\n",
      "K=5: # predicted to rent:  7,  # who did rent 1, accuracy 14.3%\n"
     ]
    }
   ],
   "source": [
    "for K in range(1,6):\n",
    "    knn = KNeighborsClassifier(n_neighbors=K)\n",
    "    knn_pred = knn.fit(X_train, y_train).predict(X_test)\n",
    "    C = confusion_table(knn_pred, y_test)\n",
    "    templ = ('K={0:d}: # predicted to rent: {1:>2},' +\n",
    "            '  # who did rent {2:d}, accuracy {3:.1%}')\n",
    "    pred = C.loc[\"Yes\"].sum()\n",
    "    did_rent = C.loc[\"Yes\", \"Yes\"]\n",
    "    print(templ.format(\n",
    "        K,\n",
    "        pred,\n",
    "        did_rent,\n",
    "        did_rent / pred))"
   ]
  },
  {
   "cell_type": "markdown",
   "id": "a705ee11-19f8-4c78-9106-75e2514843b8",
   "metadata": {},
   "source": [
    "### Comparison to Logistic Regression"
   ]
  },
  {
   "cell_type": "code",
   "execution_count": 118,
   "id": "413549d1-1042-4f50-a58a-af138a9b0a8e",
   "metadata": {},
   "outputs": [
    {
     "data": {
      "text/html": [
       "<div>\n",
       "<style scoped>\n",
       "    .dataframe tbody tr th:only-of-type {\n",
       "        vertical-align: middle;\n",
       "    }\n",
       "\n",
       "    .dataframe tbody tr th {\n",
       "        vertical-align: top;\n",
       "    }\n",
       "\n",
       "    .dataframe thead th {\n",
       "        text-align: right;\n",
       "    }\n",
       "</style>\n",
       "<table border=\"1\" class=\"dataframe\">\n",
       "  <thead>\n",
       "    <tr style=\"text-align: right;\">\n",
       "      <th>Truth</th>\n",
       "      <th>No</th>\n",
       "      <th>Yes</th>\n",
       "    </tr>\n",
       "    <tr>\n",
       "      <th>Predicted</th>\n",
       "      <th></th>\n",
       "      <th></th>\n",
       "    </tr>\n",
       "  </thead>\n",
       "  <tbody>\n",
       "    <tr>\n",
       "      <th>No</th>\n",
       "      <td>931</td>\n",
       "      <td>67</td>\n",
       "    </tr>\n",
       "    <tr>\n",
       "      <th>Yes</th>\n",
       "      <td>2</td>\n",
       "      <td>0</td>\n",
       "    </tr>\n",
       "  </tbody>\n",
       "</table>\n",
       "</div>"
      ],
      "text/plain": [
       "Truth       No  Yes\n",
       "Predicted          \n",
       "No         931   67\n",
       "Yes          2    0"
      ]
     },
     "execution_count": 118,
     "metadata": {},
     "output_type": "execute_result"
    }
   ],
   "source": [
    "logit = LogisticRegression(C=1e10, solver=\"liblinear\")\n",
    "logit.fit(X_train, y_train)\n",
    "logit_pred = logit.predict_proba(X_test)\n",
    "logit_labels = np.where(logit_pred[:,1] > .5, 'Yes', 'No')\n",
    "confusion_table(logit_labels, y_test)"
   ]
  },
  {
   "cell_type": "code",
   "execution_count": 119,
   "id": "3a23af82-894a-4544-a200-748f7faaf5e0",
   "metadata": {},
   "outputs": [
    {
     "data": {
      "text/html": [
       "<div>\n",
       "<style scoped>\n",
       "    .dataframe tbody tr th:only-of-type {\n",
       "        vertical-align: middle;\n",
       "    }\n",
       "\n",
       "    .dataframe tbody tr th {\n",
       "        vertical-align: top;\n",
       "    }\n",
       "\n",
       "    .dataframe thead th {\n",
       "        text-align: right;\n",
       "    }\n",
       "</style>\n",
       "<table border=\"1\" class=\"dataframe\">\n",
       "  <thead>\n",
       "    <tr style=\"text-align: right;\">\n",
       "      <th>Truth</th>\n",
       "      <th>No</th>\n",
       "      <th>Yes</th>\n",
       "    </tr>\n",
       "    <tr>\n",
       "      <th>Predicted</th>\n",
       "      <th></th>\n",
       "      <th></th>\n",
       "    </tr>\n",
       "  </thead>\n",
       "  <tbody>\n",
       "    <tr>\n",
       "      <th>No</th>\n",
       "      <td>913</td>\n",
       "      <td>58</td>\n",
       "    </tr>\n",
       "    <tr>\n",
       "      <th>Yes</th>\n",
       "      <td>20</td>\n",
       "      <td>9</td>\n",
       "    </tr>\n",
       "  </tbody>\n",
       "</table>\n",
       "</div>"
      ],
      "text/plain": [
       "Truth       No  Yes\n",
       "Predicted          \n",
       "No         913   58\n",
       "Yes         20    9"
      ]
     },
     "execution_count": 119,
     "metadata": {},
     "output_type": "execute_result"
    }
   ],
   "source": [
    "logit_labels = np.where(logit_pred[:,1]>0.25, 'Yes','No')\n",
    "confusion_table(logit_labels, y_test)"
   ]
  },
  {
   "cell_type": "code",
   "execution_count": 120,
   "id": "fd078795-e473-4ced-b2d3-c779343d14dc",
   "metadata": {},
   "outputs": [
    {
     "data": {
      "text/plain": [
       "0.3103448275862069"
      ]
     },
     "execution_count": 120,
     "metadata": {},
     "output_type": "execute_result"
    }
   ],
   "source": [
    "9/(20+9)"
   ]
  },
  {
   "cell_type": "markdown",
   "id": "63260734-19d2-40e2-b856-a9692f7c2192",
   "metadata": {},
   "source": [
    "### *Linear and Poisson Regression on the Bikeshare Data*"
   ]
  },
  {
   "cell_type": "code",
   "execution_count": 123,
   "id": "fe5c7e13-bd3f-48c5-8c8a-67a2461dce98",
   "metadata": {},
   "outputs": [],
   "source": [
    "Bike = load_data(\"Bikeshare\")"
   ]
  },
  {
   "cell_type": "code",
   "execution_count": 127,
   "id": "7e2703ef-35d6-4b77-98d6-0e9d01b4ba73",
   "metadata": {},
   "outputs": [
    {
     "data": {
      "text/plain": [
       "((8645, 15),\n",
       " Index(['season', 'mnth', 'day', 'hr', 'holiday', 'weekday', 'workingday',\n",
       "        'weathersit', 'temp', 'atemp', 'hum', 'windspeed', 'casual',\n",
       "        'registered', 'bikers'],\n",
       "       dtype='object'))"
      ]
     },
     "execution_count": 127,
     "metadata": {},
     "output_type": "execute_result"
    }
   ],
   "source": [
    "Bike.shape, Bike.columns"
   ]
  },
  {
   "cell_type": "markdown",
   "id": "96e8e5f1-27c0-460a-b77d-7df8bf866181",
   "metadata": {},
   "source": [
    "### Linear Regression"
   ]
  },
  {
   "cell_type": "code",
   "execution_count": 129,
   "id": "bdcb2476-5713-48ec-92dc-754742b71f58",
   "metadata": {},
   "outputs": [
    {
     "data": {
      "text/html": [
       "<div>\n",
       "<style scoped>\n",
       "    .dataframe tbody tr th:only-of-type {\n",
       "        vertical-align: middle;\n",
       "    }\n",
       "\n",
       "    .dataframe tbody tr th {\n",
       "        vertical-align: top;\n",
       "    }\n",
       "\n",
       "    .dataframe thead th {\n",
       "        text-align: right;\n",
       "    }\n",
       "</style>\n",
       "<table border=\"1\" class=\"dataframe\">\n",
       "  <thead>\n",
       "    <tr style=\"text-align: right;\">\n",
       "      <th></th>\n",
       "      <th>coef</th>\n",
       "      <th>std err</th>\n",
       "      <th>t</th>\n",
       "      <th>P&gt;|t|</th>\n",
       "    </tr>\n",
       "  </thead>\n",
       "  <tbody>\n",
       "    <tr>\n",
       "      <th>intercept</th>\n",
       "      <td>-68.6317</td>\n",
       "      <td>5.307</td>\n",
       "      <td>-12.932</td>\n",
       "      <td>0.000</td>\n",
       "    </tr>\n",
       "    <tr>\n",
       "      <th>mnth[Feb]</th>\n",
       "      <td>6.8452</td>\n",
       "      <td>4.287</td>\n",
       "      <td>1.597</td>\n",
       "      <td>0.110</td>\n",
       "    </tr>\n",
       "    <tr>\n",
       "      <th>mnth[March]</th>\n",
       "      <td>16.5514</td>\n",
       "      <td>4.301</td>\n",
       "      <td>3.848</td>\n",
       "      <td>0.000</td>\n",
       "    </tr>\n",
       "    <tr>\n",
       "      <th>mnth[April]</th>\n",
       "      <td>41.4249</td>\n",
       "      <td>4.972</td>\n",
       "      <td>8.331</td>\n",
       "      <td>0.000</td>\n",
       "    </tr>\n",
       "    <tr>\n",
       "      <th>mnth[May]</th>\n",
       "      <td>72.5571</td>\n",
       "      <td>5.641</td>\n",
       "      <td>12.862</td>\n",
       "      <td>0.000</td>\n",
       "    </tr>\n",
       "    <tr>\n",
       "      <th>mnth[June]</th>\n",
       "      <td>67.8187</td>\n",
       "      <td>6.544</td>\n",
       "      <td>10.364</td>\n",
       "      <td>0.000</td>\n",
       "    </tr>\n",
       "    <tr>\n",
       "      <th>mnth[July]</th>\n",
       "      <td>45.3245</td>\n",
       "      <td>7.081</td>\n",
       "      <td>6.401</td>\n",
       "      <td>0.000</td>\n",
       "    </tr>\n",
       "    <tr>\n",
       "      <th>mnth[Aug]</th>\n",
       "      <td>53.2430</td>\n",
       "      <td>6.640</td>\n",
       "      <td>8.019</td>\n",
       "      <td>0.000</td>\n",
       "    </tr>\n",
       "    <tr>\n",
       "      <th>mnth[Sept]</th>\n",
       "      <td>66.6783</td>\n",
       "      <td>5.925</td>\n",
       "      <td>11.254</td>\n",
       "      <td>0.000</td>\n",
       "    </tr>\n",
       "    <tr>\n",
       "      <th>mnth[Oct]</th>\n",
       "      <td>75.8343</td>\n",
       "      <td>4.950</td>\n",
       "      <td>15.319</td>\n",
       "      <td>0.000</td>\n",
       "    </tr>\n",
       "    <tr>\n",
       "      <th>mnth[Nov]</th>\n",
       "      <td>60.3100</td>\n",
       "      <td>4.610</td>\n",
       "      <td>13.083</td>\n",
       "      <td>0.000</td>\n",
       "    </tr>\n",
       "    <tr>\n",
       "      <th>mnth[Dec]</th>\n",
       "      <td>46.4577</td>\n",
       "      <td>4.271</td>\n",
       "      <td>10.878</td>\n",
       "      <td>0.000</td>\n",
       "    </tr>\n",
       "    <tr>\n",
       "      <th>hr[1]</th>\n",
       "      <td>-14.5793</td>\n",
       "      <td>5.699</td>\n",
       "      <td>-2.558</td>\n",
       "      <td>0.011</td>\n",
       "    </tr>\n",
       "    <tr>\n",
       "      <th>hr[2]</th>\n",
       "      <td>-21.5791</td>\n",
       "      <td>5.733</td>\n",
       "      <td>-3.764</td>\n",
       "      <td>0.000</td>\n",
       "    </tr>\n",
       "    <tr>\n",
       "      <th>hr[3]</th>\n",
       "      <td>-31.1408</td>\n",
       "      <td>5.778</td>\n",
       "      <td>-5.389</td>\n",
       "      <td>0.000</td>\n",
       "    </tr>\n",
       "    <tr>\n",
       "      <th>hr[4]</th>\n",
       "      <td>-36.9075</td>\n",
       "      <td>5.802</td>\n",
       "      <td>-6.361</td>\n",
       "      <td>0.000</td>\n",
       "    </tr>\n",
       "    <tr>\n",
       "      <th>hr[5]</th>\n",
       "      <td>-24.1355</td>\n",
       "      <td>5.737</td>\n",
       "      <td>-4.207</td>\n",
       "      <td>0.000</td>\n",
       "    </tr>\n",
       "    <tr>\n",
       "      <th>hr[6]</th>\n",
       "      <td>20.5997</td>\n",
       "      <td>5.704</td>\n",
       "      <td>3.612</td>\n",
       "      <td>0.000</td>\n",
       "    </tr>\n",
       "    <tr>\n",
       "      <th>hr[7]</th>\n",
       "      <td>120.0931</td>\n",
       "      <td>5.693</td>\n",
       "      <td>21.095</td>\n",
       "      <td>0.000</td>\n",
       "    </tr>\n",
       "    <tr>\n",
       "      <th>hr[8]</th>\n",
       "      <td>223.6619</td>\n",
       "      <td>5.690</td>\n",
       "      <td>39.310</td>\n",
       "      <td>0.000</td>\n",
       "    </tr>\n",
       "    <tr>\n",
       "      <th>hr[9]</th>\n",
       "      <td>120.5819</td>\n",
       "      <td>5.693</td>\n",
       "      <td>21.182</td>\n",
       "      <td>0.000</td>\n",
       "    </tr>\n",
       "    <tr>\n",
       "      <th>hr[10]</th>\n",
       "      <td>83.8013</td>\n",
       "      <td>5.705</td>\n",
       "      <td>14.689</td>\n",
       "      <td>0.000</td>\n",
       "    </tr>\n",
       "    <tr>\n",
       "      <th>hr[11]</th>\n",
       "      <td>105.4234</td>\n",
       "      <td>5.722</td>\n",
       "      <td>18.424</td>\n",
       "      <td>0.000</td>\n",
       "    </tr>\n",
       "    <tr>\n",
       "      <th>hr[12]</th>\n",
       "      <td>137.2837</td>\n",
       "      <td>5.740</td>\n",
       "      <td>23.916</td>\n",
       "      <td>0.000</td>\n",
       "    </tr>\n",
       "    <tr>\n",
       "      <th>hr[13]</th>\n",
       "      <td>136.0359</td>\n",
       "      <td>5.760</td>\n",
       "      <td>23.617</td>\n",
       "      <td>0.000</td>\n",
       "    </tr>\n",
       "    <tr>\n",
       "      <th>hr[14]</th>\n",
       "      <td>126.6361</td>\n",
       "      <td>5.776</td>\n",
       "      <td>21.923</td>\n",
       "      <td>0.000</td>\n",
       "    </tr>\n",
       "    <tr>\n",
       "      <th>hr[15]</th>\n",
       "      <td>132.0865</td>\n",
       "      <td>5.780</td>\n",
       "      <td>22.852</td>\n",
       "      <td>0.000</td>\n",
       "    </tr>\n",
       "    <tr>\n",
       "      <th>hr[16]</th>\n",
       "      <td>178.5206</td>\n",
       "      <td>5.772</td>\n",
       "      <td>30.927</td>\n",
       "      <td>0.000</td>\n",
       "    </tr>\n",
       "    <tr>\n",
       "      <th>hr[17]</th>\n",
       "      <td>296.2670</td>\n",
       "      <td>5.749</td>\n",
       "      <td>51.537</td>\n",
       "      <td>0.000</td>\n",
       "    </tr>\n",
       "    <tr>\n",
       "      <th>hr[18]</th>\n",
       "      <td>269.4409</td>\n",
       "      <td>5.736</td>\n",
       "      <td>46.976</td>\n",
       "      <td>0.000</td>\n",
       "    </tr>\n",
       "    <tr>\n",
       "      <th>hr[19]</th>\n",
       "      <td>186.2558</td>\n",
       "      <td>5.714</td>\n",
       "      <td>32.596</td>\n",
       "      <td>0.000</td>\n",
       "    </tr>\n",
       "    <tr>\n",
       "      <th>hr[20]</th>\n",
       "      <td>125.5492</td>\n",
       "      <td>5.704</td>\n",
       "      <td>22.012</td>\n",
       "      <td>0.000</td>\n",
       "    </tr>\n",
       "    <tr>\n",
       "      <th>hr[21]</th>\n",
       "      <td>87.5537</td>\n",
       "      <td>5.693</td>\n",
       "      <td>15.378</td>\n",
       "      <td>0.000</td>\n",
       "    </tr>\n",
       "    <tr>\n",
       "      <th>hr[22]</th>\n",
       "      <td>59.1226</td>\n",
       "      <td>5.689</td>\n",
       "      <td>10.392</td>\n",
       "      <td>0.000</td>\n",
       "    </tr>\n",
       "    <tr>\n",
       "      <th>hr[23]</th>\n",
       "      <td>26.8376</td>\n",
       "      <td>5.688</td>\n",
       "      <td>4.719</td>\n",
       "      <td>0.000</td>\n",
       "    </tr>\n",
       "    <tr>\n",
       "      <th>workingday</th>\n",
       "      <td>1.2696</td>\n",
       "      <td>1.784</td>\n",
       "      <td>0.711</td>\n",
       "      <td>0.477</td>\n",
       "    </tr>\n",
       "    <tr>\n",
       "      <th>temp</th>\n",
       "      <td>157.2094</td>\n",
       "      <td>10.261</td>\n",
       "      <td>15.321</td>\n",
       "      <td>0.000</td>\n",
       "    </tr>\n",
       "    <tr>\n",
       "      <th>weathersit[cloudy/misty]</th>\n",
       "      <td>-12.8903</td>\n",
       "      <td>1.964</td>\n",
       "      <td>-6.562</td>\n",
       "      <td>0.000</td>\n",
       "    </tr>\n",
       "    <tr>\n",
       "      <th>weathersit[heavy rain/snow]</th>\n",
       "      <td>-109.7446</td>\n",
       "      <td>76.667</td>\n",
       "      <td>-1.431</td>\n",
       "      <td>0.152</td>\n",
       "    </tr>\n",
       "    <tr>\n",
       "      <th>weathersit[light rain/snow]</th>\n",
       "      <td>-66.4944</td>\n",
       "      <td>2.965</td>\n",
       "      <td>-22.425</td>\n",
       "      <td>0.000</td>\n",
       "    </tr>\n",
       "  </tbody>\n",
       "</table>\n",
       "</div>"
      ],
      "text/plain": [
       "                                 coef  std err       t  P>|t|\n",
       "intercept                    -68.6317    5.307 -12.932  0.000\n",
       "mnth[Feb]                      6.8452    4.287   1.597  0.110\n",
       "mnth[March]                   16.5514    4.301   3.848  0.000\n",
       "mnth[April]                   41.4249    4.972   8.331  0.000\n",
       "mnth[May]                     72.5571    5.641  12.862  0.000\n",
       "mnth[June]                    67.8187    6.544  10.364  0.000\n",
       "mnth[July]                    45.3245    7.081   6.401  0.000\n",
       "mnth[Aug]                     53.2430    6.640   8.019  0.000\n",
       "mnth[Sept]                    66.6783    5.925  11.254  0.000\n",
       "mnth[Oct]                     75.8343    4.950  15.319  0.000\n",
       "mnth[Nov]                     60.3100    4.610  13.083  0.000\n",
       "mnth[Dec]                     46.4577    4.271  10.878  0.000\n",
       "hr[1]                        -14.5793    5.699  -2.558  0.011\n",
       "hr[2]                        -21.5791    5.733  -3.764  0.000\n",
       "hr[3]                        -31.1408    5.778  -5.389  0.000\n",
       "hr[4]                        -36.9075    5.802  -6.361  0.000\n",
       "hr[5]                        -24.1355    5.737  -4.207  0.000\n",
       "hr[6]                         20.5997    5.704   3.612  0.000\n",
       "hr[7]                        120.0931    5.693  21.095  0.000\n",
       "hr[8]                        223.6619    5.690  39.310  0.000\n",
       "hr[9]                        120.5819    5.693  21.182  0.000\n",
       "hr[10]                        83.8013    5.705  14.689  0.000\n",
       "hr[11]                       105.4234    5.722  18.424  0.000\n",
       "hr[12]                       137.2837    5.740  23.916  0.000\n",
       "hr[13]                       136.0359    5.760  23.617  0.000\n",
       "hr[14]                       126.6361    5.776  21.923  0.000\n",
       "hr[15]                       132.0865    5.780  22.852  0.000\n",
       "hr[16]                       178.5206    5.772  30.927  0.000\n",
       "hr[17]                       296.2670    5.749  51.537  0.000\n",
       "hr[18]                       269.4409    5.736  46.976  0.000\n",
       "hr[19]                       186.2558    5.714  32.596  0.000\n",
       "hr[20]                       125.5492    5.704  22.012  0.000\n",
       "hr[21]                        87.5537    5.693  15.378  0.000\n",
       "hr[22]                        59.1226    5.689  10.392  0.000\n",
       "hr[23]                        26.8376    5.688   4.719  0.000\n",
       "workingday                     1.2696    1.784   0.711  0.477\n",
       "temp                         157.2094   10.261  15.321  0.000\n",
       "weathersit[cloudy/misty]     -12.8903    1.964  -6.562  0.000\n",
       "weathersit[heavy rain/snow] -109.7446   76.667  -1.431  0.152\n",
       "weathersit[light rain/snow]  -66.4944    2.965 -22.425  0.000"
      ]
     },
     "execution_count": 129,
     "metadata": {},
     "output_type": "execute_result"
    }
   ],
   "source": [
    "X = MS(['mnth',\n",
    "        'hr',\n",
    "        'workingday',\n",
    "        'temp',\n",
    "        'weathersit']).fit_transform(Bike)\n",
    "Y = Bike['bikers']\n",
    "M_lm = sm.OLS(Y, X).fit()\n",
    "summarize(M_lm)"
   ]
  },
  {
   "cell_type": "code",
   "execution_count": 131,
   "id": "2410f99c-3b33-4ea2-ac56-254781d0c963",
   "metadata": {},
   "outputs": [],
   "source": [
    "hr_encode = contrast(\"hr\",\"sum\")\n",
    "mnth_encode = contrast('mnth', 'sum')"
   ]
  },
  {
   "cell_type": "code",
   "execution_count": 133,
   "id": "31ed624a-c5c2-461e-953c-06fc0555b342",
   "metadata": {},
   "outputs": [
    {
     "data": {
      "text/html": [
       "<div>\n",
       "<style scoped>\n",
       "    .dataframe tbody tr th:only-of-type {\n",
       "        vertical-align: middle;\n",
       "    }\n",
       "\n",
       "    .dataframe tbody tr th {\n",
       "        vertical-align: top;\n",
       "    }\n",
       "\n",
       "    .dataframe thead th {\n",
       "        text-align: right;\n",
       "    }\n",
       "</style>\n",
       "<table border=\"1\" class=\"dataframe\">\n",
       "  <thead>\n",
       "    <tr style=\"text-align: right;\">\n",
       "      <th></th>\n",
       "      <th>coef</th>\n",
       "      <th>std err</th>\n",
       "      <th>t</th>\n",
       "      <th>P&gt;|t|</th>\n",
       "    </tr>\n",
       "  </thead>\n",
       "  <tbody>\n",
       "    <tr>\n",
       "      <th>intercept</th>\n",
       "      <td>73.5974</td>\n",
       "      <td>5.132</td>\n",
       "      <td>14.340</td>\n",
       "      <td>0.000</td>\n",
       "    </tr>\n",
       "    <tr>\n",
       "      <th>mnth[Jan]</th>\n",
       "      <td>-46.0871</td>\n",
       "      <td>4.085</td>\n",
       "      <td>-11.281</td>\n",
       "      <td>0.000</td>\n",
       "    </tr>\n",
       "    <tr>\n",
       "      <th>mnth[Feb]</th>\n",
       "      <td>-39.2419</td>\n",
       "      <td>3.539</td>\n",
       "      <td>-11.088</td>\n",
       "      <td>0.000</td>\n",
       "    </tr>\n",
       "    <tr>\n",
       "      <th>mnth[March]</th>\n",
       "      <td>-29.5357</td>\n",
       "      <td>3.155</td>\n",
       "      <td>-9.361</td>\n",
       "      <td>0.000</td>\n",
       "    </tr>\n",
       "    <tr>\n",
       "      <th>mnth[April]</th>\n",
       "      <td>-4.6622</td>\n",
       "      <td>2.741</td>\n",
       "      <td>-1.701</td>\n",
       "      <td>0.089</td>\n",
       "    </tr>\n",
       "    <tr>\n",
       "      <th>mnth[May]</th>\n",
       "      <td>26.4700</td>\n",
       "      <td>2.851</td>\n",
       "      <td>9.285</td>\n",
       "      <td>0.000</td>\n",
       "    </tr>\n",
       "    <tr>\n",
       "      <th>mnth[June]</th>\n",
       "      <td>21.7317</td>\n",
       "      <td>3.465</td>\n",
       "      <td>6.272</td>\n",
       "      <td>0.000</td>\n",
       "    </tr>\n",
       "    <tr>\n",
       "      <th>mnth[July]</th>\n",
       "      <td>-0.7626</td>\n",
       "      <td>3.908</td>\n",
       "      <td>-0.195</td>\n",
       "      <td>0.845</td>\n",
       "    </tr>\n",
       "    <tr>\n",
       "      <th>mnth[Aug]</th>\n",
       "      <td>7.1560</td>\n",
       "      <td>3.535</td>\n",
       "      <td>2.024</td>\n",
       "      <td>0.043</td>\n",
       "    </tr>\n",
       "    <tr>\n",
       "      <th>mnth[Sept]</th>\n",
       "      <td>20.5912</td>\n",
       "      <td>3.046</td>\n",
       "      <td>6.761</td>\n",
       "      <td>0.000</td>\n",
       "    </tr>\n",
       "    <tr>\n",
       "      <th>mnth[Oct]</th>\n",
       "      <td>29.7472</td>\n",
       "      <td>2.700</td>\n",
       "      <td>11.019</td>\n",
       "      <td>0.000</td>\n",
       "    </tr>\n",
       "    <tr>\n",
       "      <th>mnth[Nov]</th>\n",
       "      <td>14.2229</td>\n",
       "      <td>2.860</td>\n",
       "      <td>4.972</td>\n",
       "      <td>0.000</td>\n",
       "    </tr>\n",
       "    <tr>\n",
       "      <th>hr[0]</th>\n",
       "      <td>-96.1420</td>\n",
       "      <td>3.955</td>\n",
       "      <td>-24.307</td>\n",
       "      <td>0.000</td>\n",
       "    </tr>\n",
       "    <tr>\n",
       "      <th>hr[1]</th>\n",
       "      <td>-110.7213</td>\n",
       "      <td>3.966</td>\n",
       "      <td>-27.916</td>\n",
       "      <td>0.000</td>\n",
       "    </tr>\n",
       "    <tr>\n",
       "      <th>hr[2]</th>\n",
       "      <td>-117.7212</td>\n",
       "      <td>4.016</td>\n",
       "      <td>-29.310</td>\n",
       "      <td>0.000</td>\n",
       "    </tr>\n",
       "    <tr>\n",
       "      <th>hr[3]</th>\n",
       "      <td>-127.2828</td>\n",
       "      <td>4.081</td>\n",
       "      <td>-31.191</td>\n",
       "      <td>0.000</td>\n",
       "    </tr>\n",
       "    <tr>\n",
       "      <th>hr[4]</th>\n",
       "      <td>-133.0495</td>\n",
       "      <td>4.117</td>\n",
       "      <td>-32.319</td>\n",
       "      <td>0.000</td>\n",
       "    </tr>\n",
       "    <tr>\n",
       "      <th>hr[5]</th>\n",
       "      <td>-120.2775</td>\n",
       "      <td>4.037</td>\n",
       "      <td>-29.794</td>\n",
       "      <td>0.000</td>\n",
       "    </tr>\n",
       "    <tr>\n",
       "      <th>hr[6]</th>\n",
       "      <td>-75.5424</td>\n",
       "      <td>3.992</td>\n",
       "      <td>-18.925</td>\n",
       "      <td>0.000</td>\n",
       "    </tr>\n",
       "    <tr>\n",
       "      <th>hr[7]</th>\n",
       "      <td>23.9511</td>\n",
       "      <td>3.969</td>\n",
       "      <td>6.035</td>\n",
       "      <td>0.000</td>\n",
       "    </tr>\n",
       "    <tr>\n",
       "      <th>hr[8]</th>\n",
       "      <td>127.5199</td>\n",
       "      <td>3.950</td>\n",
       "      <td>32.284</td>\n",
       "      <td>0.000</td>\n",
       "    </tr>\n",
       "    <tr>\n",
       "      <th>hr[9]</th>\n",
       "      <td>24.4399</td>\n",
       "      <td>3.936</td>\n",
       "      <td>6.209</td>\n",
       "      <td>0.000</td>\n",
       "    </tr>\n",
       "    <tr>\n",
       "      <th>hr[10]</th>\n",
       "      <td>-12.3407</td>\n",
       "      <td>3.936</td>\n",
       "      <td>-3.135</td>\n",
       "      <td>0.002</td>\n",
       "    </tr>\n",
       "    <tr>\n",
       "      <th>hr[11]</th>\n",
       "      <td>9.2814</td>\n",
       "      <td>3.945</td>\n",
       "      <td>2.353</td>\n",
       "      <td>0.019</td>\n",
       "    </tr>\n",
       "    <tr>\n",
       "      <th>hr[12]</th>\n",
       "      <td>41.1417</td>\n",
       "      <td>3.957</td>\n",
       "      <td>10.397</td>\n",
       "      <td>0.000</td>\n",
       "    </tr>\n",
       "    <tr>\n",
       "      <th>hr[13]</th>\n",
       "      <td>39.8939</td>\n",
       "      <td>3.975</td>\n",
       "      <td>10.036</td>\n",
       "      <td>0.000</td>\n",
       "    </tr>\n",
       "    <tr>\n",
       "      <th>hr[14]</th>\n",
       "      <td>30.4940</td>\n",
       "      <td>3.991</td>\n",
       "      <td>7.641</td>\n",
       "      <td>0.000</td>\n",
       "    </tr>\n",
       "    <tr>\n",
       "      <th>hr[15]</th>\n",
       "      <td>35.9445</td>\n",
       "      <td>3.995</td>\n",
       "      <td>8.998</td>\n",
       "      <td>0.000</td>\n",
       "    </tr>\n",
       "    <tr>\n",
       "      <th>hr[16]</th>\n",
       "      <td>82.3786</td>\n",
       "      <td>3.988</td>\n",
       "      <td>20.655</td>\n",
       "      <td>0.000</td>\n",
       "    </tr>\n",
       "    <tr>\n",
       "      <th>hr[17]</th>\n",
       "      <td>200.1249</td>\n",
       "      <td>3.964</td>\n",
       "      <td>50.488</td>\n",
       "      <td>0.000</td>\n",
       "    </tr>\n",
       "    <tr>\n",
       "      <th>hr[18]</th>\n",
       "      <td>173.2989</td>\n",
       "      <td>3.956</td>\n",
       "      <td>43.806</td>\n",
       "      <td>0.000</td>\n",
       "    </tr>\n",
       "    <tr>\n",
       "      <th>hr[19]</th>\n",
       "      <td>90.1138</td>\n",
       "      <td>3.940</td>\n",
       "      <td>22.872</td>\n",
       "      <td>0.000</td>\n",
       "    </tr>\n",
       "    <tr>\n",
       "      <th>hr[20]</th>\n",
       "      <td>29.4071</td>\n",
       "      <td>3.936</td>\n",
       "      <td>7.471</td>\n",
       "      <td>0.000</td>\n",
       "    </tr>\n",
       "    <tr>\n",
       "      <th>hr[21]</th>\n",
       "      <td>-8.5883</td>\n",
       "      <td>3.933</td>\n",
       "      <td>-2.184</td>\n",
       "      <td>0.029</td>\n",
       "    </tr>\n",
       "    <tr>\n",
       "      <th>hr[22]</th>\n",
       "      <td>-37.0194</td>\n",
       "      <td>3.934</td>\n",
       "      <td>-9.409</td>\n",
       "      <td>0.000</td>\n",
       "    </tr>\n",
       "    <tr>\n",
       "      <th>workingday</th>\n",
       "      <td>1.2696</td>\n",
       "      <td>1.784</td>\n",
       "      <td>0.711</td>\n",
       "      <td>0.477</td>\n",
       "    </tr>\n",
       "    <tr>\n",
       "      <th>temp</th>\n",
       "      <td>157.2094</td>\n",
       "      <td>10.261</td>\n",
       "      <td>15.321</td>\n",
       "      <td>0.000</td>\n",
       "    </tr>\n",
       "    <tr>\n",
       "      <th>weathersit[cloudy/misty]</th>\n",
       "      <td>-12.8903</td>\n",
       "      <td>1.964</td>\n",
       "      <td>-6.562</td>\n",
       "      <td>0.000</td>\n",
       "    </tr>\n",
       "    <tr>\n",
       "      <th>weathersit[heavy rain/snow]</th>\n",
       "      <td>-109.7446</td>\n",
       "      <td>76.667</td>\n",
       "      <td>-1.431</td>\n",
       "      <td>0.152</td>\n",
       "    </tr>\n",
       "    <tr>\n",
       "      <th>weathersit[light rain/snow]</th>\n",
       "      <td>-66.4944</td>\n",
       "      <td>2.965</td>\n",
       "      <td>-22.425</td>\n",
       "      <td>0.000</td>\n",
       "    </tr>\n",
       "  </tbody>\n",
       "</table>\n",
       "</div>"
      ],
      "text/plain": [
       "                                 coef  std err       t  P>|t|\n",
       "intercept                     73.5974    5.132  14.340  0.000\n",
       "mnth[Jan]                    -46.0871    4.085 -11.281  0.000\n",
       "mnth[Feb]                    -39.2419    3.539 -11.088  0.000\n",
       "mnth[March]                  -29.5357    3.155  -9.361  0.000\n",
       "mnth[April]                   -4.6622    2.741  -1.701  0.089\n",
       "mnth[May]                     26.4700    2.851   9.285  0.000\n",
       "mnth[June]                    21.7317    3.465   6.272  0.000\n",
       "mnth[July]                    -0.7626    3.908  -0.195  0.845\n",
       "mnth[Aug]                      7.1560    3.535   2.024  0.043\n",
       "mnth[Sept]                    20.5912    3.046   6.761  0.000\n",
       "mnth[Oct]                     29.7472    2.700  11.019  0.000\n",
       "mnth[Nov]                     14.2229    2.860   4.972  0.000\n",
       "hr[0]                        -96.1420    3.955 -24.307  0.000\n",
       "hr[1]                       -110.7213    3.966 -27.916  0.000\n",
       "hr[2]                       -117.7212    4.016 -29.310  0.000\n",
       "hr[3]                       -127.2828    4.081 -31.191  0.000\n",
       "hr[4]                       -133.0495    4.117 -32.319  0.000\n",
       "hr[5]                       -120.2775    4.037 -29.794  0.000\n",
       "hr[6]                        -75.5424    3.992 -18.925  0.000\n",
       "hr[7]                         23.9511    3.969   6.035  0.000\n",
       "hr[8]                        127.5199    3.950  32.284  0.000\n",
       "hr[9]                         24.4399    3.936   6.209  0.000\n",
       "hr[10]                       -12.3407    3.936  -3.135  0.002\n",
       "hr[11]                         9.2814    3.945   2.353  0.019\n",
       "hr[12]                        41.1417    3.957  10.397  0.000\n",
       "hr[13]                        39.8939    3.975  10.036  0.000\n",
       "hr[14]                        30.4940    3.991   7.641  0.000\n",
       "hr[15]                        35.9445    3.995   8.998  0.000\n",
       "hr[16]                        82.3786    3.988  20.655  0.000\n",
       "hr[17]                       200.1249    3.964  50.488  0.000\n",
       "hr[18]                       173.2989    3.956  43.806  0.000\n",
       "hr[19]                        90.1138    3.940  22.872  0.000\n",
       "hr[20]                        29.4071    3.936   7.471  0.000\n",
       "hr[21]                        -8.5883    3.933  -2.184  0.029\n",
       "hr[22]                       -37.0194    3.934  -9.409  0.000\n",
       "workingday                     1.2696    1.784   0.711  0.477\n",
       "temp                         157.2094   10.261  15.321  0.000\n",
       "weathersit[cloudy/misty]     -12.8903    1.964  -6.562  0.000\n",
       "weathersit[heavy rain/snow] -109.7446   76.667  -1.431  0.152\n",
       "weathersit[light rain/snow]  -66.4944    2.965 -22.425  0.000"
      ]
     },
     "execution_count": 133,
     "metadata": {},
     "output_type": "execute_result"
    }
   ],
   "source": [
    "X2 = MS([mnth_encode,\n",
    "         hr_encode,\n",
    "        'workingday',\n",
    "        'temp',\n",
    "        'weathersit']).fit_transform(Bike)\n",
    "M2_lm = sm.OLS(Y, X2).fit()\n",
    "S2 = summarize(M2_lm)\n",
    "S2"
   ]
  },
  {
   "cell_type": "code",
   "execution_count": 134,
   "id": "3466caf5-09cb-4a90-9c5e-eda7f7c03c02",
   "metadata": {},
   "outputs": [
    {
     "data": {
      "text/plain": [
       "2.090347015370735e-19"
      ]
     },
     "execution_count": 134,
     "metadata": {},
     "output_type": "execute_result"
    }
   ],
   "source": [
    "np.sum((M_lm.fittedvalues - M2_lm.fittedvalues)**2)"
   ]
  },
  {
   "cell_type": "code",
   "execution_count": 136,
   "id": "630c2685-e038-4d51-abd4-06ed4299e755",
   "metadata": {},
   "outputs": [
    {
     "data": {
      "text/plain": [
       "True"
      ]
     },
     "execution_count": 136,
     "metadata": {},
     "output_type": "execute_result"
    }
   ],
   "source": [
    "np.allclose(M_lm.fittedvalues, M2_lm.fittedvalues)"
   ]
  },
  {
   "cell_type": "code",
   "execution_count": 138,
   "id": "565fff7a-a73a-485e-ac25-6b6291d2f846",
   "metadata": {},
   "outputs": [
    {
     "data": {
      "text/plain": [
       "mnth[Jan]     -46.0871\n",
       "mnth[Feb]     -39.2419\n",
       "mnth[March]   -29.5357\n",
       "mnth[April]    -4.6622\n",
       "mnth[May]      26.4700\n",
       "mnth[June]     21.7317\n",
       "mnth[July]     -0.7626\n",
       "mnth[Aug]       7.1560\n",
       "mnth[Sept]     20.5912\n",
       "mnth[Oct]      29.7472\n",
       "mnth[Nov]      14.2229\n",
       "Name: coef, dtype: float64"
      ]
     },
     "execution_count": 138,
     "metadata": {},
     "output_type": "execute_result"
    }
   ],
   "source": [
    "coef_month = S2[S2.index.str.contains(\"mnth\")][\"coef\"]\n",
    "coef_month"
   ]
  },
  {
   "cell_type": "code",
   "execution_count": 140,
   "id": "233dbcd0-cebc-43ac-9d7c-cbe853878a57",
   "metadata": {},
   "outputs": [
    {
     "data": {
      "text/plain": [
       "mnth[Jan]     -46.0871\n",
       "mnth[Feb]     -39.2419\n",
       "mnth[March]   -29.5357\n",
       "mnth[April]    -4.6622\n",
       "mnth[May]      26.4700\n",
       "mnth[June]     21.7317\n",
       "mnth[July]     -0.7626\n",
       "mnth[Aug]       7.1560\n",
       "mnth[Sept]     20.5912\n",
       "mnth[Oct]      29.7472\n",
       "mnth[Nov]      14.2229\n",
       "mnth[Dec]       0.3705\n",
       "dtype: float64"
      ]
     },
     "execution_count": 140,
     "metadata": {},
     "output_type": "execute_result"
    }
   ],
   "source": [
    "months = Bike['mnth'].dtype.categories\n",
    "coef_month = pd.concat([\n",
    "    coef_month,\n",
    "    pd.Series([-coef_month.sum()],\n",
    "             index = ['mnth[Dec]'\n",
    "                     ])\n",
    "])\n",
    "coef_month"
   ]
  },
  {
   "cell_type": "code",
   "execution_count": 141,
   "id": "f7957ab7-59b1-4d2b-853f-578d7770a601",
   "metadata": {
    "collapsed": true,
    "jupyter": {
     "outputs_hidden": true
    },
    "scrolled": true
   },
   "outputs": [
    {
     "data": {
      "image/png": "[encoded data removed]",
      "text/plain": [
       "<Figure size 600x600 with 1 Axes>"
      ]
     },
     "metadata": {},
     "output_type": "display_data"
    }
   ],
   "source": [
    "fig_month, ax_month = subplots(figsize=(6,6))\n",
    "x_month = np.arange(coef_month.shape[0])\n",
    "ax_month.plot(x_month, coef_month, marker='o', ms=10)\n",
    "ax_month.set_xticks(x_month)\n",
    "ax_month.set_xticklabels([l[5] for l in coef_month.index], fontsize=20)\n",
    "ax_month.set_xlabel('Month', fontsize=20)\n",
    "ax_month.set_ylabel('Coefficient', fontsize=20);"
   ]
  },
  {
   "cell_type": "code",
   "execution_count": 144,
   "id": "91bfa418-e1ff-4c20-9ec7-cf8be6df34f2",
   "metadata": {},
   "outputs": [],
   "source": [
    "coef_hr = S2[S2.index.str.contains('hr')]['coef']\n",
    "coef_hr = coef_hr.reindex(['hr[{0}]'.format(h) for h in range(23)])\n",
    "coef_hr = pd.concat([coef_hr,\n",
    "                    pd.Series([-coef_hr.sum()], index=['hr[23]'])\n",
    "                    ])"
   ]
  },
  {
   "cell_type": "code",
   "execution_count": 146,
   "id": "62cba957-1831-4131-9bcc-d9aeb486737b",
   "metadata": {
    "collapsed": true,
    "jupyter": {
     "outputs_hidden": true
    },
    "scrolled": true
   },
   "outputs": [
    {
     "data": {
      "image/png": "[encoded data removed]",
      "text/plain": [
       "<Figure size 700x700 with 1 Axes>"
      ]
     },
     "metadata": {},
     "output_type": "display_data"
    }
   ],
   "source": [
    "fig_hr, ax_hr = subplots(figsize=(7,7))\n",
    "x_hr = np.arange(coef_hr.shape[0])\n",
    "ax_hr.plot(x_hr, coef_hr, marker=\"o\", ms=10)\n",
    "ax_hr.set_xticks(x_hr[::2])\n",
    "ax_hr.set_xticklabels(range(24)[::2], fontsize=20)\n",
    "ax_hr.set_xlabel('Hour', fontsize=20)\n",
    "ax_hr.set_ylabel('Coefficient', fontsize=20);"
   ]
  },
  {
   "cell_type": "markdown",
   "id": "e1bf68ad-1b0e-402c-aebe-5e19c663a778",
   "metadata": {},
   "source": [
    "### Poisson Regression"
   ]
  },
  {
   "cell_type": "code",
   "execution_count": 150,
   "id": "da18524f-ddef-4ec5-a852-9ef4ad4c8600",
   "metadata": {},
   "outputs": [],
   "source": [
    "M_pois = sm.GLM(Y, X2, family=sm.families.Poisson()).fit()"
   ]
  },
  {
   "cell_type": "code",
   "execution_count": 157,
   "id": "934b3654-a627-4463-ac3c-0305a3dd8749",
   "metadata": {},
   "outputs": [],
   "source": [
    "S_pois = summarize(M_pois)\n",
    "coef_month = S_pois[S_pois.index.str.contains('mnth')]['coef']\n",
    "coef_month = pd.concat([coef_month,\n",
    "                       pd.Series([-coef_month.sum()],\n",
    "                                 index=['mnth[Dec]'])])\n",
    "coef_hr = S_pois[S_pois.index.str.contains('hr')]['coef']\n",
    "coef_hr = pd.concat([coef_hr,\n",
    "                     pd.Series([-coef_hr.sum()],\n",
    "                     index=['hr[23]'])])"
   ]
  },
  {
   "cell_type": "code",
   "execution_count": 159,
   "id": "bc8efbcf-ed8f-4fe4-b75d-b4fb59449829",
   "metadata": {
    "collapsed": true,
    "jupyter": {
     "outputs_hidden": true
    }
   },
   "outputs": [
    {
     "name": "stderr",
     "output_type": "stream",
     "text": [
      "C:\\Users\\Asus\\AppData\\Local\\Temp\\ipykernel_10040\\3779510511.py:8: UserWarning: set_ticklabels() should only be used with a fixed number of ticks, i.e. after set_ticks() or using a FixedLocator.\n",
      "  ax_hr.set_xticklabels(range(24)[::2], fontsize=20)\n"
     ]
    },
    {
     "data": {
      "image/png": "[encoded data removed]",
      "text/plain": [
       "<Figure size 1600x800 with 2 Axes>"
      ]
     },
     "metadata": {},
     "output_type": "display_data"
    }
   ],
   "source": [
    "fig_pois, (ax_month, ax_hr) = subplots(1, 2, figsize=(16,8))\n",
    "ax_month.plot(x_month, coef_month, marker='o', ms=10)\n",
    "ax_month.set_xticks(x_month)\n",
    "ax_month.set_xticklabels([l[5] for l in coef_month.index], fontsize=20)\n",
    "ax_month.set_xlabel('Month', fontsize=20)\n",
    "ax_month.set_ylabel('Coefficient', fontsize=20)\n",
    "ax_hr.plot(x_hr, coef_hr, marker='o', ms=10)\n",
    "ax_hr.set_xticklabels(range(24)[::2], fontsize=20)\n",
    "ax_hr.set_xlabel('Hour', fontsize=20)\n",
    "ax_hr.set_ylabel('Coefficient', fontsize=20);"
   ]
  },
  {
   "cell_type": "markdown",
   "id": "3abef4fb-1970-4f59-9bad-5786f34adad0",
   "metadata": {},
   "source": [
    "Here we compared the fitted values of the models."
   ]
  },
  {
   "cell_type": "code",
   "execution_count": 162,
   "id": "e4265bee-5d4f-4be6-9261-357bbd40f589",
   "metadata": {
    "collapsed": true,
    "jupyter": {
     "outputs_hidden": true
    }
   },
   "outputs": [
    {
     "data": {
      "image/png": "[encoded data removed]",
      "text/plain": [
       "<Figure size 800x800 with 1 Axes>"
      ]
     },
     "metadata": {},
     "output_type": "display_data"
    }
   ],
   "source": [
    "fig, ax = subplots(figsize=(8, 8))\n",
    "ax.scatter(M2_lm.fittedvalues,\n",
    "           M_pois.fittedvalues,\n",
    "           s=20)\n",
    "ax.set_xlabel('Linear Regression Fit', fontsize=20)\n",
    "ax.set_ylabel('Poisson Regression Fit', fontsize=20)\n",
    "ax.axline([0,0], c='black', linewidth=3,\n",
    "          linestyle='--', slope=1);\n"
   ]
  },
  {
   "cell_type": "markdown",
   "id": "afdb666e-7d02-4011-85d6-54eb82d3edb0",
   "metadata": {},
   "source": [
    "Poisson regression predictions tend to be larger than those from the linear model for either very low or very high levels of ridership."
   ]
  },
  {
   "cell_type": "code",
   "execution_count": null,
   "id": "56824666-9dfb-4766-9817-4ca4c14bdef1",
   "metadata": {},
   "outputs": [],
   "source": []
  }
 ],
 "metadata": {
  "kernelspec": {
   "display_name": "Python [conda env:base] *",
   "language": "python",
   "name": "conda-base-py"
  },
  "language_info": {
   "codemirror_mode": {
    "name": "ipython",
    "version": 3
   },
   "file_extension": ".py",
   "mimetype": "text/x-python",
   "name": "python",
   "nbconvert_exporter": "python",
   "pygments_lexer": "ipython3",
   "version": "3.12.7"
  }
 },
 "nbformat": 4,
 "nbformat_minor": 5
}
